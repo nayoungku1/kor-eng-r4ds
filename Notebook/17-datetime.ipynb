{
 "cells": [
  {
   "cell_type": "markdown",
   "id": "1ccd20c4-07ef-4349-86b5-015b0d2d6348",
   "metadata": {},
   "source": [
    "2025 CCADD Winter Internship - Book Reading Session"
   ]
  },
  {
   "cell_type": "markdown",
   "id": "0ef4d751-6dee-4eaa-b7aa-e94cfbf590a0",
   "metadata": {},
   "source": [
    "#### ***Copyright Notice***\n",
    "\n",
    "This notebook was created as part of an internship program for educational and non-commercial purposes. It is based on content from *R for Data Science* (2nd edition) by Hadley Wickham, Mine Cetinkaya-Rundel, and Garrett Grolemund. The original book is licensed under the Creative Commons Attribution-NonCommercial-NoDerivatives 4.0 International License. \n",
    "\n",
    "This notebook is not a substitute for the original book, and participants are encouraged to refer to the official publication for comprehensive understanding. \n",
    "\n",
    "© Nayoung Ku, 2025. All rights reserved. Redistribution of this notebook is permitted for educational purposes only with proper attribution."
   ]
  },
  {
   "cell_type": "markdown",
   "id": "c9813a30-73e9-49b8-bbea-d0fc1757afe6",
   "metadata": {},
   "source": [
    "# Chapter 17: Dates and Times"
   ]
  },
  {
   "cell_type": "markdown",
   "id": "fd0c3540-e8f9-4933-a787-7329890dd2ae",
   "metadata": {},
   "source": [
    "https://r4ds.hadley.nz/datetimes"
   ]
  },
  {
   "cell_type": "markdown",
   "id": "16033cc3-1e43-4e02-84a1-59650ff53436",
   "metadata": {},
   "source": [
    "## 0. Introduction\n",
    "### Objectives\n",
    "1. **Create** date and datetime objects\n",
    "2. Work with **datetime components**\n",
    "3. Perform **arithmetics** on time\n",
    "4. Recognize ways to deal with **timezones**"
   ]
  },
  {
   "cell_type": "code",
   "execution_count": 1,
   "id": "7809a583-be59-4353-977f-dec766e7ea3a",
   "metadata": {},
   "outputs": [
    {
     "name": "stderr",
     "output_type": "stream",
     "text": [
      "── \u001b[1mAttaching core tidyverse packages\u001b[22m ──────────────────────── tidyverse 2.0.0 ──\n",
      "\u001b[32m✔\u001b[39m \u001b[34mdplyr    \u001b[39m 1.1.4     \u001b[32m✔\u001b[39m \u001b[34mreadr    \u001b[39m 2.1.5\n",
      "\u001b[32m✔\u001b[39m \u001b[34mforcats  \u001b[39m 1.0.0     \u001b[32m✔\u001b[39m \u001b[34mstringr  \u001b[39m 1.5.1\n",
      "\u001b[32m✔\u001b[39m \u001b[34mggplot2  \u001b[39m 3.5.1     \u001b[32m✔\u001b[39m \u001b[34mtibble   \u001b[39m 3.2.1\n",
      "\u001b[32m✔\u001b[39m \u001b[34mlubridate\u001b[39m 1.9.4     \u001b[32m✔\u001b[39m \u001b[34mtidyr    \u001b[39m 1.3.1\n",
      "\u001b[32m✔\u001b[39m \u001b[34mpurrr    \u001b[39m 1.0.2     \n",
      "── \u001b[1mConflicts\u001b[22m ────────────────────────────────────────── tidyverse_conflicts() ──\n",
      "\u001b[31m✖\u001b[39m \u001b[34mdplyr\u001b[39m::\u001b[32mfilter()\u001b[39m masks \u001b[34mstats\u001b[39m::filter()\n",
      "\u001b[31m✖\u001b[39m \u001b[34mdplyr\u001b[39m::\u001b[32mlag()\u001b[39m    masks \u001b[34mstats\u001b[39m::lag()\n",
      "\u001b[36mℹ\u001b[39m Use the conflicted package (\u001b[3m\u001b[34m<http://conflicted.r-lib.org/>\u001b[39m\u001b[23m) to force all conflicts to become errors\n"
     ]
    }
   ],
   "source": [
    "# Import package\n",
    "library(tidyverse)\n",
    "library(nycflights13)"
   ]
  },
  {
   "cell_type": "code",
   "execution_count": 2,
   "id": "17efabbc-41cb-4c04-94a3-df8335c155c2",
   "metadata": {
    "scrolled": true
   },
   "outputs": [
    {
     "data": {
      "text/html": [
       "<table class=\"dataframe\">\n",
       "<caption>A tibble: 3 × 19</caption>\n",
       "<thead>\n",
       "\t<tr><th scope=col>year</th><th scope=col>month</th><th scope=col>day</th><th scope=col>dep_time</th><th scope=col>sched_dep_time</th><th scope=col>dep_delay</th><th scope=col>arr_time</th><th scope=col>sched_arr_time</th><th scope=col>arr_delay</th><th scope=col>carrier</th><th scope=col>flight</th><th scope=col>tailnum</th><th scope=col>origin</th><th scope=col>dest</th><th scope=col>air_time</th><th scope=col>distance</th><th scope=col>hour</th><th scope=col>minute</th><th scope=col>time_hour</th></tr>\n",
       "\t<tr><th scope=col>&lt;int&gt;</th><th scope=col>&lt;int&gt;</th><th scope=col>&lt;int&gt;</th><th scope=col>&lt;int&gt;</th><th scope=col>&lt;int&gt;</th><th scope=col>&lt;dbl&gt;</th><th scope=col>&lt;int&gt;</th><th scope=col>&lt;int&gt;</th><th scope=col>&lt;dbl&gt;</th><th scope=col>&lt;chr&gt;</th><th scope=col>&lt;int&gt;</th><th scope=col>&lt;chr&gt;</th><th scope=col>&lt;chr&gt;</th><th scope=col>&lt;chr&gt;</th><th scope=col>&lt;dbl&gt;</th><th scope=col>&lt;dbl&gt;</th><th scope=col>&lt;dbl&gt;</th><th scope=col>&lt;dbl&gt;</th><th scope=col>&lt;dttm&gt;</th></tr>\n",
       "</thead>\n",
       "<tbody>\n",
       "\t<tr><td>2013</td><td>1</td><td>1</td><td>517</td><td>515</td><td>2</td><td>830</td><td>819</td><td>11</td><td>UA</td><td>1545</td><td>N14228</td><td>EWR</td><td>IAH</td><td>227</td><td>1400</td><td>5</td><td>15</td><td>2013-01-01 05:00:00</td></tr>\n",
       "\t<tr><td>2013</td><td>1</td><td>1</td><td>533</td><td>529</td><td>4</td><td>850</td><td>830</td><td>20</td><td>UA</td><td>1714</td><td>N24211</td><td>LGA</td><td>IAH</td><td>227</td><td>1416</td><td>5</td><td>29</td><td>2013-01-01 05:00:00</td></tr>\n",
       "\t<tr><td>2013</td><td>1</td><td>1</td><td>542</td><td>540</td><td>2</td><td>923</td><td>850</td><td>33</td><td>AA</td><td>1141</td><td>N619AA</td><td>JFK</td><td>MIA</td><td>160</td><td>1089</td><td>5</td><td>40</td><td>2013-01-01 05:00:00</td></tr>\n",
       "</tbody>\n",
       "</table>\n"
      ],
      "text/latex": [
       "A tibble: 3 × 19\n",
       "\\begin{tabular}{lllllllllllllllllll}\n",
       " year & month & day & dep\\_time & sched\\_dep\\_time & dep\\_delay & arr\\_time & sched\\_arr\\_time & arr\\_delay & carrier & flight & tailnum & origin & dest & air\\_time & distance & hour & minute & time\\_hour\\\\\n",
       " <int> & <int> & <int> & <int> & <int> & <dbl> & <int> & <int> & <dbl> & <chr> & <int> & <chr> & <chr> & <chr> & <dbl> & <dbl> & <dbl> & <dbl> & <dttm>\\\\\n",
       "\\hline\n",
       "\t 2013 & 1 & 1 & 517 & 515 & 2 & 830 & 819 & 11 & UA & 1545 & N14228 & EWR & IAH & 227 & 1400 & 5 & 15 & 2013-01-01 05:00:00\\\\\n",
       "\t 2013 & 1 & 1 & 533 & 529 & 4 & 850 & 830 & 20 & UA & 1714 & N24211 & LGA & IAH & 227 & 1416 & 5 & 29 & 2013-01-01 05:00:00\\\\\n",
       "\t 2013 & 1 & 1 & 542 & 540 & 2 & 923 & 850 & 33 & AA & 1141 & N619AA & JFK & MIA & 160 & 1089 & 5 & 40 & 2013-01-01 05:00:00\\\\\n",
       "\\end{tabular}\n"
      ],
      "text/markdown": [
       "\n",
       "A tibble: 3 × 19\n",
       "\n",
       "| year &lt;int&gt; | month &lt;int&gt; | day &lt;int&gt; | dep_time &lt;int&gt; | sched_dep_time &lt;int&gt; | dep_delay &lt;dbl&gt; | arr_time &lt;int&gt; | sched_arr_time &lt;int&gt; | arr_delay &lt;dbl&gt; | carrier &lt;chr&gt; | flight &lt;int&gt; | tailnum &lt;chr&gt; | origin &lt;chr&gt; | dest &lt;chr&gt; | air_time &lt;dbl&gt; | distance &lt;dbl&gt; | hour &lt;dbl&gt; | minute &lt;dbl&gt; | time_hour &lt;dttm&gt; |\n",
       "|---|---|---|---|---|---|---|---|---|---|---|---|---|---|---|---|---|---|---|\n",
       "| 2013 | 1 | 1 | 517 | 515 | 2 | 830 | 819 | 11 | UA | 1545 | N14228 | EWR | IAH | 227 | 1400 | 5 | 15 | 2013-01-01 05:00:00 |\n",
       "| 2013 | 1 | 1 | 533 | 529 | 4 | 850 | 830 | 20 | UA | 1714 | N24211 | LGA | IAH | 227 | 1416 | 5 | 29 | 2013-01-01 05:00:00 |\n",
       "| 2013 | 1 | 1 | 542 | 540 | 2 | 923 | 850 | 33 | AA | 1141 | N619AA | JFK | MIA | 160 | 1089 | 5 | 40 | 2013-01-01 05:00:00 |\n",
       "\n"
      ],
      "text/plain": [
       "  year month day dep_time sched_dep_time dep_delay arr_time sched_arr_time\n",
       "1 2013 1     1   517      515            2         830      819           \n",
       "2 2013 1     1   533      529            4         850      830           \n",
       "3 2013 1     1   542      540            2         923      850           \n",
       "  arr_delay carrier flight tailnum origin dest air_time distance hour minute\n",
       "1 11        UA      1545   N14228  EWR    IAH  227      1400     5    15    \n",
       "2 20        UA      1714   N24211  LGA    IAH  227      1416     5    29    \n",
       "3 33        AA      1141   N619AA  JFK    MIA  160      1089     5    40    \n",
       "  time_hour          \n",
       "1 2013-01-01 05:00:00\n",
       "2 2013-01-01 05:00:00\n",
       "3 2013-01-01 05:00:00"
      ]
     },
     "metadata": {},
     "output_type": "display_data"
    }
   ],
   "source": [
    "# information about the dataset\n",
    "head(flights,3)"
   ]
  },
  {
   "cell_type": "markdown",
   "id": "d678a476-8802-4dca-8c49-d37a665ab85f",
   "metadata": {},
   "source": [
    "### Vocabularies\n",
    "* Types of date/time objects:\n",
    "    1. date = `<date>`: Stores the date (year, month, day). No time information.\n",
    "    2. time = `<hms>`: Stores the time of day (hours, minutes, seconds). No date information. \n",
    "    3. datetime = `<dttm>` = POSIXct: Includes both date and time information. Time zones can be applied.\n",
    "* Important to be aware of timezones"
   ]
  },
  {
   "cell_type": "code",
   "execution_count": 3,
   "id": "c1d46fce-f394-4149-9aaa-5d656074fbb4",
   "metadata": {},
   "outputs": [
    {
     "data": {
      "text/html": [
       "<time datetime=\"2025-01-31\">2025-01-31</time>"
      ],
      "text/latex": [
       "2025-01-31"
      ],
      "text/markdown": [
       "2025-01-31"
      ],
      "text/plain": [
       "[1] \"2025-01-31\""
      ]
     },
     "metadata": {},
     "output_type": "display_data"
    },
    {
     "data": {
      "text/html": [
       "'Date'"
      ],
      "text/latex": [
       "'Date'"
      ],
      "text/markdown": [
       "'Date'"
      ],
      "text/plain": [
       "[1] \"Date\""
      ]
     },
     "metadata": {},
     "output_type": "display_data"
    }
   ],
   "source": [
    "today()\n",
    "class(today()) "
   ]
  },
  {
   "cell_type": "code",
   "execution_count": 4,
   "id": "d5f78031-5dba-4f43-a958-5ec16cbc7d14",
   "metadata": {},
   "outputs": [
    {
     "data": {
      "text/plain": [
       "[1] \"2025-01-31 13:15:17 KST\""
      ]
     },
     "metadata": {},
     "output_type": "display_data"
    },
    {
     "data": {
      "text/html": [
       "<style>\n",
       ".list-inline {list-style: none; margin:0; padding: 0}\n",
       ".list-inline>li {display: inline-block}\n",
       ".list-inline>li:not(:last-child)::after {content: \"\\00b7\"; padding: 0 .5ex}\n",
       "</style>\n",
       "<ol class=list-inline><li>'POSIXct'</li><li>'POSIXt'</li></ol>\n"
      ],
      "text/latex": [
       "\\begin{enumerate*}\n",
       "\\item 'POSIXct'\n",
       "\\item 'POSIXt'\n",
       "\\end{enumerate*}\n"
      ],
      "text/markdown": [
       "1. 'POSIXct'\n",
       "2. 'POSIXt'\n",
       "\n",
       "\n"
      ],
      "text/plain": [
       "[1] \"POSIXct\" \"POSIXt\" "
      ]
     },
     "metadata": {},
     "output_type": "display_data"
    }
   ],
   "source": [
    "now() # time with timestamp; local time zone\n",
    "class(now())"
   ]
  },
  {
   "cell_type": "markdown",
   "id": "2a6786b7-2040-42ff-8aaa-d2d70e2db8c5",
   "metadata": {},
   "source": [
    "* `dttm`: date time class that some R packages(e.g., `lubridate`) utilize.\n",
    "* `POSIXt`: the default date-time class of R, more broadly utilized."
   ]
  },
  {
   "cell_type": "markdown",
   "id": "77368800-9bdb-4242-912f-3ed55076936c",
   "metadata": {},
   "source": [
    "## 1. Creating Date and Time Objects"
   ]
  },
  {
   "cell_type": "markdown",
   "id": "4c2367c3-b292-4702-9da8-de62aa7d61bd",
   "metadata": {},
   "source": [
    "### `lubridate` functions"
   ]
  },
  {
   "cell_type": "markdown",
   "id": "c5a0998a-d88c-47bb-8c1a-45990be65cdb",
   "metadata": {},
   "source": [
    "#### `ymd_hms()`\n",
    "* By default it puts everything in UTC"
   ]
  },
  {
   "cell_type": "code",
   "execution_count": 5,
   "id": "056ad4e3-ffa5-4b22-a421-b7c90e8f52ac",
   "metadata": {},
   "outputs": [
    {
     "data": {
      "text/plain": [
       "[1] \"2025-02-28 15:39:29 UTC\""
      ]
     },
     "metadata": {},
     "output_type": "display_data"
    }
   ],
   "source": [
    "ymd_hms(\"2025-02-28 15:39:29\")"
   ]
  },
  {
   "cell_type": "markdown",
   "id": "3e87fb14-5fb0-43fc-80a0-c9ebfdab1c4a",
   "metadata": {},
   "source": [
    "---\n",
    "#### `make_date()` &  `make_datetime()`:\n",
    "* if you have in your data separate columns for year month day hour minute, etc.\n",
    "* these will turn into a datetime or date"
   ]
  },
  {
   "cell_type": "code",
   "execution_count": 6,
   "id": "bb9c2d34-6ac8-4089-bf09-9e356693d5ac",
   "metadata": {},
   "outputs": [
    {
     "data": {
      "text/html": [
       "<table class=\"dataframe\">\n",
       "<caption>A tibble: 3 × 19</caption>\n",
       "<thead>\n",
       "\t<tr><th scope=col>year</th><th scope=col>month</th><th scope=col>day</th><th scope=col>dep_time</th><th scope=col>sched_dep_time</th><th scope=col>dep_delay</th><th scope=col>arr_time</th><th scope=col>sched_arr_time</th><th scope=col>arr_delay</th><th scope=col>carrier</th><th scope=col>flight</th><th scope=col>tailnum</th><th scope=col>origin</th><th scope=col>dest</th><th scope=col>air_time</th><th scope=col>distance</th><th scope=col>hour</th><th scope=col>minute</th><th scope=col>time_hour</th></tr>\n",
       "\t<tr><th scope=col>&lt;int&gt;</th><th scope=col>&lt;int&gt;</th><th scope=col>&lt;int&gt;</th><th scope=col>&lt;int&gt;</th><th scope=col>&lt;int&gt;</th><th scope=col>&lt;dbl&gt;</th><th scope=col>&lt;int&gt;</th><th scope=col>&lt;int&gt;</th><th scope=col>&lt;dbl&gt;</th><th scope=col>&lt;chr&gt;</th><th scope=col>&lt;int&gt;</th><th scope=col>&lt;chr&gt;</th><th scope=col>&lt;chr&gt;</th><th scope=col>&lt;chr&gt;</th><th scope=col>&lt;dbl&gt;</th><th scope=col>&lt;dbl&gt;</th><th scope=col>&lt;dbl&gt;</th><th scope=col>&lt;dbl&gt;</th><th scope=col>&lt;dttm&gt;</th></tr>\n",
       "</thead>\n",
       "<tbody>\n",
       "\t<tr><td>2013</td><td>1</td><td>1</td><td>517</td><td>515</td><td>2</td><td>830</td><td>819</td><td>11</td><td>UA</td><td>1545</td><td>N14228</td><td>EWR</td><td>IAH</td><td>227</td><td>1400</td><td>5</td><td>15</td><td>2013-01-01 05:00:00</td></tr>\n",
       "\t<tr><td>2013</td><td>1</td><td>1</td><td>533</td><td>529</td><td>4</td><td>850</td><td>830</td><td>20</td><td>UA</td><td>1714</td><td>N24211</td><td>LGA</td><td>IAH</td><td>227</td><td>1416</td><td>5</td><td>29</td><td>2013-01-01 05:00:00</td></tr>\n",
       "\t<tr><td>2013</td><td>1</td><td>1</td><td>542</td><td>540</td><td>2</td><td>923</td><td>850</td><td>33</td><td>AA</td><td>1141</td><td>N619AA</td><td>JFK</td><td>MIA</td><td>160</td><td>1089</td><td>5</td><td>40</td><td>2013-01-01 05:00:00</td></tr>\n",
       "</tbody>\n",
       "</table>\n"
      ],
      "text/latex": [
       "A tibble: 3 × 19\n",
       "\\begin{tabular}{lllllllllllllllllll}\n",
       " year & month & day & dep\\_time & sched\\_dep\\_time & dep\\_delay & arr\\_time & sched\\_arr\\_time & arr\\_delay & carrier & flight & tailnum & origin & dest & air\\_time & distance & hour & minute & time\\_hour\\\\\n",
       " <int> & <int> & <int> & <int> & <int> & <dbl> & <int> & <int> & <dbl> & <chr> & <int> & <chr> & <chr> & <chr> & <dbl> & <dbl> & <dbl> & <dbl> & <dttm>\\\\\n",
       "\\hline\n",
       "\t 2013 & 1 & 1 & 517 & 515 & 2 & 830 & 819 & 11 & UA & 1545 & N14228 & EWR & IAH & 227 & 1400 & 5 & 15 & 2013-01-01 05:00:00\\\\\n",
       "\t 2013 & 1 & 1 & 533 & 529 & 4 & 850 & 830 & 20 & UA & 1714 & N24211 & LGA & IAH & 227 & 1416 & 5 & 29 & 2013-01-01 05:00:00\\\\\n",
       "\t 2013 & 1 & 1 & 542 & 540 & 2 & 923 & 850 & 33 & AA & 1141 & N619AA & JFK & MIA & 160 & 1089 & 5 & 40 & 2013-01-01 05:00:00\\\\\n",
       "\\end{tabular}\n"
      ],
      "text/markdown": [
       "\n",
       "A tibble: 3 × 19\n",
       "\n",
       "| year &lt;int&gt; | month &lt;int&gt; | day &lt;int&gt; | dep_time &lt;int&gt; | sched_dep_time &lt;int&gt; | dep_delay &lt;dbl&gt; | arr_time &lt;int&gt; | sched_arr_time &lt;int&gt; | arr_delay &lt;dbl&gt; | carrier &lt;chr&gt; | flight &lt;int&gt; | tailnum &lt;chr&gt; | origin &lt;chr&gt; | dest &lt;chr&gt; | air_time &lt;dbl&gt; | distance &lt;dbl&gt; | hour &lt;dbl&gt; | minute &lt;dbl&gt; | time_hour &lt;dttm&gt; |\n",
       "|---|---|---|---|---|---|---|---|---|---|---|---|---|---|---|---|---|---|---|\n",
       "| 2013 | 1 | 1 | 517 | 515 | 2 | 830 | 819 | 11 | UA | 1545 | N14228 | EWR | IAH | 227 | 1400 | 5 | 15 | 2013-01-01 05:00:00 |\n",
       "| 2013 | 1 | 1 | 533 | 529 | 4 | 850 | 830 | 20 | UA | 1714 | N24211 | LGA | IAH | 227 | 1416 | 5 | 29 | 2013-01-01 05:00:00 |\n",
       "| 2013 | 1 | 1 | 542 | 540 | 2 | 923 | 850 | 33 | AA | 1141 | N619AA | JFK | MIA | 160 | 1089 | 5 | 40 | 2013-01-01 05:00:00 |\n",
       "\n"
      ],
      "text/plain": [
       "  year month day dep_time sched_dep_time dep_delay arr_time sched_arr_time\n",
       "1 2013 1     1   517      515            2         830      819           \n",
       "2 2013 1     1   533      529            4         850      830           \n",
       "3 2013 1     1   542      540            2         923      850           \n",
       "  arr_delay carrier flight tailnum origin dest air_time distance hour minute\n",
       "1 11        UA      1545   N14228  EWR    IAH  227      1400     5    15    \n",
       "2 20        UA      1714   N24211  LGA    IAH  227      1416     5    29    \n",
       "3 33        AA      1141   N619AA  JFK    MIA  160      1089     5    40    \n",
       "  time_hour          \n",
       "1 2013-01-01 05:00:00\n",
       "2 2013-01-01 05:00:00\n",
       "3 2013-01-01 05:00:00"
      ]
     },
     "metadata": {},
     "output_type": "display_data"
    }
   ],
   "source": [
    "head(flights,3) "
   ]
  },
  {
   "cell_type": "raw",
   "id": "93a45c9d-51ff-44d4-ad2b-40ac43e7ad00",
   "metadata": {},
   "source": [
    "?flights"
   ]
  },
  {
   "cell_type": "markdown",
   "id": "69babefa-0792-4211-9804-735eb6ca3542",
   "metadata": {},
   "source": [
    "In `flights` dataset,\n",
    "* `year`,  `month`, `day`: Date of departure\n",
    "* `hour`, `minute`: Time of scheduled departure broken into hour and minutes."
   ]
  },
  {
   "cell_type": "code",
   "execution_count": 7,
   "id": "1bb7e6dd-46a2-44d8-8ade-d53fef3896e0",
   "metadata": {},
   "outputs": [
    {
     "data": {
      "text/html": [
       "<table class=\"dataframe\">\n",
       "<caption>A tibble: 3 × 7</caption>\n",
       "<thead>\n",
       "\t<tr><th scope=col>year</th><th scope=col>month</th><th scope=col>day</th><th scope=col>hour</th><th scope=col>minute</th><th scope=col>departure</th><th scope=col>dep_date</th></tr>\n",
       "\t<tr><th scope=col>&lt;int&gt;</th><th scope=col>&lt;int&gt;</th><th scope=col>&lt;int&gt;</th><th scope=col>&lt;dbl&gt;</th><th scope=col>&lt;dbl&gt;</th><th scope=col>&lt;dttm&gt;</th><th scope=col>&lt;date&gt;</th></tr>\n",
       "</thead>\n",
       "<tbody>\n",
       "\t<tr><td>2013</td><td>1</td><td>1</td><td>5</td><td>15</td><td>2013-01-01 05:15:00</td><td>2013-01-01</td></tr>\n",
       "\t<tr><td>2013</td><td>1</td><td>1</td><td>5</td><td>29</td><td>2013-01-01 05:29:00</td><td>2013-01-01</td></tr>\n",
       "\t<tr><td>2013</td><td>1</td><td>1</td><td>5</td><td>40</td><td>2013-01-01 05:40:00</td><td>2013-01-01</td></tr>\n",
       "</tbody>\n",
       "</table>\n"
      ],
      "text/latex": [
       "A tibble: 3 × 7\n",
       "\\begin{tabular}{lllllll}\n",
       " year & month & day & hour & minute & departure & dep\\_date\\\\\n",
       " <int> & <int> & <int> & <dbl> & <dbl> & <dttm> & <date>\\\\\n",
       "\\hline\n",
       "\t 2013 & 1 & 1 & 5 & 15 & 2013-01-01 05:15:00 & 2013-01-01\\\\\n",
       "\t 2013 & 1 & 1 & 5 & 29 & 2013-01-01 05:29:00 & 2013-01-01\\\\\n",
       "\t 2013 & 1 & 1 & 5 & 40 & 2013-01-01 05:40:00 & 2013-01-01\\\\\n",
       "\\end{tabular}\n"
      ],
      "text/markdown": [
       "\n",
       "A tibble: 3 × 7\n",
       "\n",
       "| year &lt;int&gt; | month &lt;int&gt; | day &lt;int&gt; | hour &lt;dbl&gt; | minute &lt;dbl&gt; | departure &lt;dttm&gt; | dep_date &lt;date&gt; |\n",
       "|---|---|---|---|---|---|---|\n",
       "| 2013 | 1 | 1 | 5 | 15 | 2013-01-01 05:15:00 | 2013-01-01 |\n",
       "| 2013 | 1 | 1 | 5 | 29 | 2013-01-01 05:29:00 | 2013-01-01 |\n",
       "| 2013 | 1 | 1 | 5 | 40 | 2013-01-01 05:40:00 | 2013-01-01 |\n",
       "\n"
      ],
      "text/plain": [
       "  year month day hour minute departure           dep_date  \n",
       "1 2013 1     1   5    15     2013-01-01 05:15:00 2013-01-01\n",
       "2 2013 1     1   5    29     2013-01-01 05:29:00 2013-01-01\n",
       "3 2013 1     1   5    40     2013-01-01 05:40:00 2013-01-01"
      ]
     },
     "metadata": {},
     "output_type": "display_data"
    }
   ],
   "source": [
    "flights |>\n",
    "    select(year, month, day, hour, minute) |>\n",
    "    mutate(\n",
    "        departure = make_datetime(year, month, day, hour, minute),\n",
    "        dep_date = make_date(year, month, day)\n",
    "    ) |>\n",
    "    head(3)\n",
    "\n",
    "#departure = <dttm> & dep_date = <date>"
   ]
  },
  {
   "cell_type": "markdown",
   "id": "2139ae2f-4981-4fef-816b-00788a7de507",
   "metadata": {},
   "source": [
    "---\n",
    "#### `as_date()` & `as_datetime()`\n",
    "* standardized way to store times, when things will be given as big number which is days or seconds, which is called unix epoch\n",
    "* Unix Epoch: 1970-01-01 00:00:00 UTC\n",
    "* `as_date()`: days\n",
    "* `as_datetime()`: seconds"
   ]
  },
  {
   "cell_type": "code",
   "execution_count": 8,
   "id": "a8e671e5-9503-4a2e-ae00-30f3736ea273",
   "metadata": {},
   "outputs": [
    {
     "data": {
      "text/plain": [
       "[1] \"1970-01-01 00:06:05 UTC\""
      ]
     },
     "metadata": {},
     "output_type": "display_data"
    }
   ],
   "source": [
    "as_datetime(365)"
   ]
  },
  {
   "cell_type": "markdown",
   "id": "492c4397-b1ce-4740-a687-f82598027ec1",
   "metadata": {},
   "source": [
    "## Getting component\n",
    "* `year()`, `month()`, `hour()`, `minute()`, `second()`\n",
    "* `day()`:\n",
    "    * `mday()`: day of month; same with `day`\n",
    "    * `yday()`: day of year\n",
    "    * `wday()`: day of week"
   ]
  },
  {
   "cell_type": "code",
   "execution_count": 9,
   "id": "b0731f3d-2120-418a-ad26-6fb1357ec0e9",
   "metadata": {},
   "outputs": [
    {
     "data": {
      "text/plain": [
       "[1] \"2025-01-31 13:15:17 KST\""
      ]
     },
     "metadata": {},
     "output_type": "display_data"
    }
   ],
   "source": [
    "now()"
   ]
  },
  {
   "cell_type": "code",
   "execution_count": 10,
   "id": "4e1e5b86-c6ca-4026-9dd2-9697dc2c658c",
   "metadata": {},
   "outputs": [],
   "source": [
    "datetime_example <- ymd_hms(\"2025-03-28 15:39:29\")"
   ]
  },
  {
   "cell_type": "code",
   "execution_count": 11,
   "id": "a12f35e5-2c3f-4748-96de-01551a5605ff",
   "metadata": {},
   "outputs": [
    {
     "data": {
      "text/html": [
       "2025"
      ],
      "text/latex": [
       "2025"
      ],
      "text/markdown": [
       "2025"
      ],
      "text/plain": [
       "[1] 2025"
      ]
     },
     "metadata": {},
     "output_type": "display_data"
    },
    {
     "data": {
      "text/html": [
       "28"
      ],
      "text/latex": [
       "28"
      ],
      "text/markdown": [
       "28"
      ],
      "text/plain": [
       "[1] 28"
      ]
     },
     "metadata": {},
     "output_type": "display_data"
    },
    {
     "data": {
      "text/html": [
       "87"
      ],
      "text/latex": [
       "87"
      ],
      "text/markdown": [
       "87"
      ],
      "text/plain": [
       "[1] 87"
      ]
     },
     "metadata": {},
     "output_type": "display_data"
    }
   ],
   "source": [
    "year(datetime_example)\n",
    "mday(datetime_example)\n",
    "yday(datetime_example) # 31 + 28  = 59"
   ]
  },
  {
   "cell_type": "code",
   "execution_count": 12,
   "id": "6735b908-e251-4502-b3a0-7d68ace68355",
   "metadata": {
    "scrolled": true
   },
   "outputs": [
    {
     "data": {
      "text/html": [
       "6"
      ],
      "text/latex": [
       "6"
      ],
      "text/markdown": [
       "6"
      ],
      "text/plain": [
       "[1] 6"
      ]
     },
     "metadata": {},
     "output_type": "display_data"
    },
    {
     "data": {
      "text/html": [
       "Fri\n",
       "<details>\n",
       "\t<summary style=display:list-item;cursor:pointer>\n",
       "\t\t<strong>Levels</strong>:\n",
       "\t</summary>\n",
       "\t<style>\n",
       "\t.list-inline {list-style: none; margin:0; padding: 0}\n",
       "\t.list-inline>li {display: inline-block}\n",
       "\t.list-inline>li:not(:last-child)::after {content: \"\\00b7\"; padding: 0 .5ex}\n",
       "\t</style>\n",
       "\t<ol class=list-inline><li>'Sun'</li><li>'Mon'</li><li>'Tue'</li><li>'Wed'</li><li>'Thu'</li><li>'Fri'</li><li>'Sat'</li></ol>\n",
       "</details>"
      ],
      "text/latex": [
       "Fri\n",
       "\\emph{Levels}: \\begin{enumerate*}\n",
       "\\item 'Sun'\n",
       "\\item 'Mon'\n",
       "\\item 'Tue'\n",
       "\\item 'Wed'\n",
       "\\item 'Thu'\n",
       "\\item 'Fri'\n",
       "\\item 'Sat'\n",
       "\\end{enumerate*}\n"
      ],
      "text/markdown": [
       "Fri\n",
       "**Levels**: 1. 'Sun'\n",
       "2. 'Mon'\n",
       "3. 'Tue'\n",
       "4. 'Wed'\n",
       "5. 'Thu'\n",
       "6. 'Fri'\n",
       "7. 'Sat'\n",
       "\n",
       "\n"
      ],
      "text/plain": [
       "[1] Fri\n",
       "Levels: Sun < Mon < Tue < Wed < Thu < Fri < Sat"
      ]
     },
     "metadata": {},
     "output_type": "display_data"
    },
    {
     "data": {
      "text/html": [
       "Friday\n",
       "<details>\n",
       "\t<summary style=display:list-item;cursor:pointer>\n",
       "\t\t<strong>Levels</strong>:\n",
       "\t</summary>\n",
       "\t<style>\n",
       "\t.list-inline {list-style: none; margin:0; padding: 0}\n",
       "\t.list-inline>li {display: inline-block}\n",
       "\t.list-inline>li:not(:last-child)::after {content: \"\\00b7\"; padding: 0 .5ex}\n",
       "\t</style>\n",
       "\t<ol class=list-inline><li>'Sunday'</li><li>'Monday'</li><li>'Tuesday'</li><li>'Wednesday'</li><li>'Thursday'</li><li>'Friday'</li><li>'Saturday'</li></ol>\n",
       "</details>"
      ],
      "text/latex": [
       "Friday\n",
       "\\emph{Levels}: \\begin{enumerate*}\n",
       "\\item 'Sunday'\n",
       "\\item 'Monday'\n",
       "\\item 'Tuesday'\n",
       "\\item 'Wednesday'\n",
       "\\item 'Thursday'\n",
       "\\item 'Friday'\n",
       "\\item 'Saturday'\n",
       "\\end{enumerate*}\n"
      ],
      "text/markdown": [
       "Friday\n",
       "**Levels**: 1. 'Sunday'\n",
       "2. 'Monday'\n",
       "3. 'Tuesday'\n",
       "4. 'Wednesday'\n",
       "5. 'Thursday'\n",
       "6. 'Friday'\n",
       "7. 'Saturday'\n",
       "\n",
       "\n"
      ],
      "text/plain": [
       "[1] Friday\n",
       "7 Levels: Sunday < Monday < Tuesday < Wednesday < Thursday < ... < Saturday"
      ]
     },
     "metadata": {},
     "output_type": "display_data"
    }
   ],
   "source": [
    "wday(now()) # order of the level: ['Sun','Mon','Tue','Wed','Thu','Fri','Sat']\n",
    "wday(now(), label = TRUE)\n",
    "wday(now(), label = TRUE, abbr = FALSE)"
   ]
  },
  {
   "cell_type": "markdown",
   "id": "cff13958-3a1f-4618-b61f-b091d2566c9d",
   "metadata": {},
   "source": [
    "## 2. Arithmetic on Time"
   ]
  },
  {
   "cell_type": "markdown",
   "id": "e4500ae3-2f6b-4f10-86a5-24c3c7e9012f",
   "metadata": {},
   "source": [
    "### Rounding datetimes\n",
    "* types:\n",
    "    * `round_date()`, `floor_date()`, `ceilling_date()`\n",
    "* argument:\n",
    "    * `<>_date(<datetime>, unit = \"hour\")`  "
   ]
  },
  {
   "cell_type": "code",
   "execution_count": 13,
   "id": "4e78cfc9-8bb8-400b-a430-6e87d0f8417f",
   "metadata": {},
   "outputs": [
    {
     "data": {
      "text/plain": [
       "[1] \"2025-03-28 15:39:29 UTC\""
      ]
     },
     "metadata": {},
     "output_type": "display_data"
    },
    {
     "name": "stdout",
     "output_type": "stream",
     "text": [
      "[1] \"=========\"\n"
     ]
    },
    {
     "data": {
      "text/plain": [
       "[1] \"2025-03-28 16:00:00 UTC\""
      ]
     },
     "metadata": {},
     "output_type": "display_data"
    },
    {
     "data": {
      "text/plain": [
       "[1] \"2025-03-28 15:39:00 UTC\""
      ]
     },
     "metadata": {},
     "output_type": "display_data"
    },
    {
     "data": {
      "text/plain": [
       "[1] \"2025-03-29 UTC\""
      ]
     },
     "metadata": {},
     "output_type": "display_data"
    }
   ],
   "source": [
    "datetime_example\n",
    "print(\"=========\")\n",
    "round_date(datetime_example, unit = \"hour\")\n",
    "round_date(datetime_example, unit = \"min\")\n",
    "round_date(datetime_example, unit = \"day\")"
   ]
  },
  {
   "cell_type": "markdown",
   "id": "5ce59e82-823b-48f4-8fbf-7ffa8703ea59",
   "metadata": {},
   "source": [
    "### Updating datetimes"
   ]
  },
  {
   "cell_type": "code",
   "execution_count": 14,
   "id": "32db7c52-4b80-484c-8058-205fc0582f0f",
   "metadata": {},
   "outputs": [
    {
     "data": {
      "text/html": [
       "15"
      ],
      "text/latex": [
       "15"
      ],
      "text/markdown": [
       "15"
      ],
      "text/plain": [
       "[1] 15"
      ]
     },
     "metadata": {},
     "output_type": "display_data"
    }
   ],
   "source": [
    "hour(datetime_example)"
   ]
  },
  {
   "cell_type": "code",
   "execution_count": 15,
   "id": "f406b361-0b4c-4c09-9942-b288ad547c22",
   "metadata": {},
   "outputs": [
    {
     "data": {
      "text/html": [
       "16"
      ],
      "text/latex": [
       "16"
      ],
      "text/markdown": [
       "16"
      ],
      "text/plain": [
       "[1] 16"
      ]
     },
     "metadata": {},
     "output_type": "display_data"
    },
    {
     "data": {
      "text/plain": [
       "[1] \"2025-03-28 16:39:29 UTC\""
      ]
     },
     "metadata": {},
     "output_type": "display_data"
    }
   ],
   "source": [
    "hour(datetime_example) <- hour(datetime_example) + 1\n",
    "hour(datetime_example)\n",
    "datetime_example"
   ]
  },
  {
   "cell_type": "code",
   "execution_count": 16,
   "id": "4cd66fa9-63fe-44cf-9e36-9dac3e26a0cb",
   "metadata": {},
   "outputs": [
    {
     "data": {
      "text/plain": [
       "[1] \"2024-05-30 16:39:29 UTC\""
      ]
     },
     "metadata": {},
     "output_type": "display_data"
    }
   ],
   "source": [
    "update(datetime_example, years = 2024, months = 5, mdays = 30)"
   ]
  },
  {
   "cell_type": "markdown",
   "id": "bd8a207f-8115-4fe0-81dc-cb92ed801a1c",
   "metadata": {},
   "source": [
    "### Concepts of time spans\n",
    "* **Durations**: exact number of seconds elapsed\n",
    "* **Periods**: human units (like days)\n",
    "* **Intervals**: start and end datetime"
   ]
  },
  {
   "cell_type": "markdown",
   "id": "194af46d-5808-494c-9e99-246297d5a34d",
   "metadata": {},
   "source": [
    "#### Duration"
   ]
  },
  {
   "cell_type": "code",
   "execution_count": 17,
   "id": "439a76a1-acba-4f30-967f-ac05e00c5aec",
   "metadata": {},
   "outputs": [
    {
     "data": {
      "text/plain": [
       "Time difference of 7428 days"
      ]
     },
     "metadata": {},
     "output_type": "display_data"
    }
   ],
   "source": [
    "ny_age <- today() - ymd(\"2004-09-30\")\n",
    "ny_age "
   ]
  },
  {
   "cell_type": "code",
   "execution_count": 18,
   "id": "06cc56b6-04a2-4c66-b156-38ff62bf92ca",
   "metadata": {},
   "outputs": [
    {
     "data": {
      "text/html": [
       "641779200s (~20.34 years)"
      ],
      "text/latex": [
       "641779200s (\\textasciitilde{}20.34 years)"
      ],
      "text/markdown": [
       "641779200s (~20.34 years)"
      ],
      "text/plain": [
       "[1] \"641779200s (~20.34 years)\""
      ]
     },
     "metadata": {},
     "output_type": "display_data"
    }
   ],
   "source": [
    "as.duration(ny_age) #lubridate always store it in seconds"
   ]
  },
  {
   "cell_type": "code",
   "execution_count": 19,
   "id": "a78e669f-18d5-45f1-b95e-9dec5e079ed9",
   "metadata": {},
   "outputs": [
    {
     "data": {
      "text/html": [
       "<style>\n",
       ".list-inline {list-style: none; margin:0; padding: 0}\n",
       ".list-inline>li {display: inline-block}\n",
       ".list-inline>li:not(:last-child)::after {content: \"\\00b7\"; padding: 0 .5ex}\n",
       "</style>\n",
       "<ol class=list-inline><li>0s</li><li>86400s (~1 days)</li><li>172800s (~2 days)</li><li>259200s (~3 days)</li></ol>\n"
      ],
      "text/latex": [
       "\\begin{enumerate*}\n",
       "\\item 0s\n",
       "\\item 86400s (\\textasciitilde{}1 days)\n",
       "\\item 172800s (\\textasciitilde{}2 days)\n",
       "\\item 259200s (\\textasciitilde{}3 days)\n",
       "\\end{enumerate*}\n"
      ],
      "text/markdown": [
       "1. 0s\n",
       "2. 86400s (~1 days)\n",
       "3. 172800s (~2 days)\n",
       "4. 259200s (~3 days)\n",
       "\n",
       "\n"
      ],
      "text/plain": [
       "[1] \"0s\"                \"86400s (~1 days)\"  \"172800s (~2 days)\"\n",
       "[4] \"259200s (~3 days)\""
      ]
     },
     "metadata": {},
     "output_type": "display_data"
    },
    {
     "data": {
      "text/html": [
       "7200s (~2 hours)"
      ],
      "text/latex": [
       "7200s (\\textasciitilde{}2 hours)"
      ],
      "text/markdown": [
       "7200s (~2 hours)"
      ],
      "text/plain": [
       "[1] \"7200s (~2 hours)\""
      ]
     },
     "metadata": {},
     "output_type": "display_data"
    },
    {
     "data": {
      "text/html": [
       "<style>\n",
       ".list-inline {list-style: none; margin:0; padding: 0}\n",
       ".list-inline>li {display: inline-block}\n",
       ".list-inline>li:not(:last-child)::after {content: \"\\00b7\"; padding: 0 .5ex}\n",
       "</style>\n",
       "<ol class=list-inline><li>7200s (~2 hours)</li><li>93600s (~1.08 days)</li><li>180000s (~2.08 days)</li><li>266400s (~3.08 days)</li></ol>\n"
      ],
      "text/latex": [
       "\\begin{enumerate*}\n",
       "\\item 7200s (\\textasciitilde{}2 hours)\n",
       "\\item 93600s (\\textasciitilde{}1.08 days)\n",
       "\\item 180000s (\\textasciitilde{}2.08 days)\n",
       "\\item 266400s (\\textasciitilde{}3.08 days)\n",
       "\\end{enumerate*}\n"
      ],
      "text/markdown": [
       "1. 7200s (~2 hours)\n",
       "2. 93600s (~1.08 days)\n",
       "3. 180000s (~2.08 days)\n",
       "4. 266400s (~3.08 days)\n",
       "\n",
       "\n"
      ],
      "text/plain": [
       "[1] \"7200s (~2 hours)\"     \"93600s (~1.08 days)\"  \"180000s (~2.08 days)\"\n",
       "[4] \"266400s (~3.08 days)\""
      ]
     },
     "metadata": {},
     "output_type": "display_data"
    }
   ],
   "source": [
    "#duration days are calculated in num of seconds\n",
    "ddays(0:3)\n",
    "dhours(2)\n",
    "ddays(0:3) + dhours(2)"
   ]
  },
  {
   "cell_type": "markdown",
   "id": "4ceb2267-c357-4848-8432-c27a05bc375b",
   "metadata": {},
   "source": [
    "#### Period"
   ]
  },
  {
   "cell_type": "code",
   "execution_count": 20,
   "id": "faef0c3d-3bd8-4389-9457-0bea715fc5e5",
   "metadata": {},
   "outputs": [
    {
     "data": {
      "text/html": [
       "1d 0H 0M 0S"
      ],
      "text/latex": [
       "1d 0H 0M 0S"
      ],
      "text/markdown": [
       "1d 0H 0M 0S"
      ],
      "text/plain": [
       "[1] \"1d 0H 0M 0S\""
      ]
     },
     "metadata": {},
     "output_type": "display_data"
    }
   ],
   "source": [
    "days(1)"
   ]
  },
  {
   "cell_type": "code",
   "execution_count": 21,
   "id": "ce91632d-94af-4dc5-b924-6e5d7c87d5ab",
   "metadata": {},
   "outputs": [
    {
     "data": {
      "text/plain": [
       "[1] \"2025-01-31 13:15:17 KST\""
      ]
     },
     "metadata": {},
     "output_type": "display_data"
    },
    {
     "data": {
      "text/plain": [
       "[1] \"2025-02-01 13:15:17 KST\""
      ]
     },
     "metadata": {},
     "output_type": "display_data"
    }
   ],
   "source": [
    "ymd_hms(now(), tz = \"Asia/Seoul\")\n",
    "ymd_hms(now(), tz = \"Asia/Seoul\") + days(1)"
   ]
  },
  {
   "cell_type": "markdown",
   "id": "cdcbb0e8-76c6-4259-a60a-bcc39e01af39",
   "metadata": {},
   "source": [
    "#### Interval"
   ]
  },
  {
   "cell_type": "code",
   "execution_count": 22,
   "id": "eeeda806-6110-43f7-a578-054c104a5849",
   "metadata": {},
   "outputs": [
    {
     "data": {
      "text/html": [
       "2023-01-01 UTC--2024-01-01 UTC"
      ],
      "text/latex": [
       "2023-01-01 UTC--2024-01-01 UTC"
      ],
      "text/markdown": [
       "2023-01-01 UTC--2024-01-01 UTC"
      ],
      "text/plain": [
       "[1] 2023-01-01 UTC--2024-01-01 UTC"
      ]
     },
     "metadata": {},
     "output_type": "display_data"
    },
    {
     "data": {
      "text/html": [
       "365"
      ],
      "text/latex": [
       "365"
      ],
      "text/markdown": [
       "365"
      ],
      "text/plain": [
       "[1] 365"
      ]
     },
     "metadata": {},
     "output_type": "display_data"
    }
   ],
   "source": [
    "y2023 <- ymd(\"2023-01-01\") %--% ymd(\"2024-01-01\")\n",
    "y2023\n",
    "y2023 / days(1) # how many period (days) in 2023"
   ]
  },
  {
   "cell_type": "markdown",
   "id": "af9e7bc6-3089-43d9-ba2e-f194efa62dbd",
   "metadata": {},
   "source": [
    "%--%  = to"
   ]
  },
  {
   "cell_type": "code",
   "execution_count": 23,
   "id": "ef501a5f-a9c1-4628-9671-316e74606455",
   "metadata": {},
   "outputs": [
    {
     "data": {
      "text/html": [
       "2024-01-01 UTC--2025-01-01 UTC"
      ],
      "text/latex": [
       "2024-01-01 UTC--2025-01-01 UTC"
      ],
      "text/markdown": [
       "2024-01-01 UTC--2025-01-01 UTC"
      ],
      "text/plain": [
       "[1] 2024-01-01 UTC--2025-01-01 UTC"
      ]
     },
     "metadata": {},
     "output_type": "display_data"
    },
    {
     "data": {
      "text/html": [
       "366"
      ],
      "text/latex": [
       "366"
      ],
      "text/markdown": [
       "366"
      ],
      "text/plain": [
       "[1] 366"
      ]
     },
     "metadata": {},
     "output_type": "display_data"
    }
   ],
   "source": [
    "y2024 <- ymd(\"2024-01-01\") %--% ymd(\"2025-01-01\")\n",
    "y2024\n",
    "y2024 / days(1) "
   ]
  },
  {
   "cell_type": "code",
   "execution_count": 24,
   "id": "f85f4ea5-e9cd-4ca9-9a2c-6b5e336b2670",
   "metadata": {},
   "outputs": [
    {
     "data": {
      "text/html": [
       "'Interval'"
      ],
      "text/latex": [
       "'Interval'"
      ],
      "text/markdown": [
       "'Interval'"
      ],
      "text/plain": [
       "[1] \"Interval\"\n",
       "attr(,\"package\")\n",
       "[1] \"lubridate\""
      ]
     },
     "metadata": {},
     "output_type": "display_data"
    }
   ],
   "source": [
    "class(y2024)"
   ]
  },
  {
   "cell_type": "code",
   "execution_count": 25,
   "id": "781404d8-0b35-4ae9-bd19-0dcbd7d4edf6",
   "metadata": {},
   "outputs": [
    {
     "data": {
      "text/html": [
       "366"
      ],
      "text/latex": [
       "366"
      ],
      "text/markdown": [
       "366"
      ],
      "text/plain": [
       "[1] 366"
      ]
     },
     "metadata": {},
     "output_type": "display_data"
    },
    {
     "data": {
      "text/html": [
       "366"
      ],
      "text/latex": [
       "366"
      ],
      "text/markdown": [
       "366"
      ],
      "text/plain": [
       "[1] 366"
      ]
     },
     "metadata": {},
     "output_type": "display_data"
    },
    {
     "data": {
      "text/html": [
       "1.00205338809035"
      ],
      "text/latex": [
       "1.00205338809035"
      ],
      "text/markdown": [
       "1.00205338809035"
      ],
      "text/plain": [
       "[1] 1.002053"
      ]
     },
     "metadata": {},
     "output_type": "display_data"
    }
   ],
   "source": [
    "y2024 / days(1) \n",
    "y2024 / ddays(1)\n",
    "y2024 / dyears(1)"
   ]
  },
  {
   "cell_type": "markdown",
   "id": "10d49724-0f4f-410a-b076-9144d02b7d3c",
   "metadata": {},
   "source": [
    "#### Summary "
   ]
  },
  {
   "cell_type": "code",
   "execution_count": 26,
   "id": "98a05ede-94f2-4f06-883b-3f71bb4af7fe",
   "metadata": {},
   "outputs": [],
   "source": [
    "start_time <- ymd(\"2025-01-01\")"
   ]
  },
  {
   "cell_type": "code",
   "execution_count": 27,
   "id": "2f4c5558-0afc-4b13-8b6b-fa8c5a5b1275",
   "metadata": {},
   "outputs": [
    {
     "data": {
      "text/html": [
       "31557600s (~1 years)"
      ],
      "text/latex": [
       "31557600s (\\textasciitilde{}1 years)"
      ],
      "text/markdown": [
       "31557600s (~1 years)"
      ],
      "text/plain": [
       "[1] \"31557600s (~1 years)\""
      ]
     },
     "metadata": {},
     "output_type": "display_data"
    },
    {
     "data": {
      "text/plain": [
       "[1] \"2026-01-01 06:00:00 UTC\""
      ]
     },
     "metadata": {},
     "output_type": "display_data"
    }
   ],
   "source": [
    "# Duration: Fixed in seconds >> Calculates exact difference in \"seconds\" after 1 year\n",
    "\n",
    "dmonths(12)\n",
    "start_time + dyears(1)"
   ]
  },
  {
   "cell_type": "code",
   "execution_count": 28,
   "id": "42f88592-4e19-41c7-9978-c2810b18b4ec",
   "metadata": {},
   "outputs": [
    {
     "data": {
      "text/html": [
       "1y 0m 0d 0H 0M 0S"
      ],
      "text/latex": [
       "1y 0m 0d 0H 0M 0S"
      ],
      "text/markdown": [
       "1y 0m 0d 0H 0M 0S"
      ],
      "text/plain": [
       "[1] \"1y 0m 0d 0H 0M 0S\""
      ]
     },
     "metadata": {},
     "output_type": "display_data"
    },
    {
     "data": {
      "text/html": [
       "<time datetime=\"2026-01-01\">2026-01-01</time>"
      ],
      "text/latex": [
       "2026-01-01"
      ],
      "text/markdown": [
       "2026-01-01"
      ],
      "text/plain": [
       "[1] \"2026-01-01\""
      ]
     },
     "metadata": {},
     "output_type": "display_data"
    }
   ],
   "source": [
    "# Period: Calculates the date exactly one year later based on the calendar \n",
    "years(1) \n",
    "start_time + years(1) "
   ]
  },
  {
   "cell_type": "code",
   "execution_count": 29,
   "id": "c06355fa-65c5-43c9-8e67-cbaa698db695",
   "metadata": {},
   "outputs": [
    {
     "data": {
      "text/html": [
       "31536000s (~52.14 weeks)"
      ],
      "text/latex": [
       "31536000s (\\textasciitilde{}52.14 weeks)"
      ],
      "text/markdown": [
       "31536000s (~52.14 weeks)"
      ],
      "text/plain": [
       "[1] \"31536000s (~52.14 weeks)\""
      ]
     },
     "metadata": {},
     "output_type": "display_data"
    }
   ],
   "source": [
    "# Interval: Compares the duration between two dates\n",
    "time_interval <- start_time %--% (start_time + years(1))\n",
    "as.duration(time_interval) # 실제 초 단위 계산"
   ]
  },
  {
   "cell_type": "markdown",
   "id": "1aba8c17-c9a7-4818-ad9f-61c5474e37a2",
   "metadata": {},
   "source": [
    "**NOTE**  \n",
    "* **Duration** (in years)  \n",
    "    * `lubridate` calculates time based on an average year length of 365.25 days (accounting for leap years).  \n",
    "    * 1 year = approximately 365.25 days, 1 day = 86,400 seconds.  \n",
    "    * `dmonths(12)` = 365.25 × 86,400 = 31,557,600 seconds.  \n",
    "* **Interval** (in weeks)  \n",
    "    * Calculated based on actual calendar dates → the number of days between the start and end date.  \n",
    "    * `%--%` creates an interval, and calling `as.duration()` returns the exact number of seconds between the start and end dates.  \n",
    "    * Since 2025 is not a leap year, exactly 365 days (31,536,000 seconds) are used.  "
   ]
  },
  {
   "cell_type": "markdown",
   "id": "e6f9e721-1085-4f9e-9436-b13458cea547",
   "metadata": {},
   "source": [
    "## 3. Time Zone"
   ]
  },
  {
   "cell_type": "markdown",
   "id": "235a3bff-1bb2-47ec-965d-10df34e5176e",
   "metadata": {},
   "source": [
    "* The package, `clock` for backend (easier to update)\n",
    "* Definition of time zone is stil changing:\n",
    "    * Daylight saving"
   ]
  },
  {
   "cell_type": "code",
   "execution_count": 30,
   "id": "3bd0630a-34af-4cbd-a31f-f4b511a6b61e",
   "metadata": {},
   "outputs": [],
   "source": [
    "internship_start_korea <- ymd_hms(\"2025-01-02 09:00:00\", tz = \"Asia/Seoul\")"
   ]
  },
  {
   "cell_type": "code",
   "execution_count": 31,
   "id": "654cfaca-daff-43e9-adce-7f7c81fc4915",
   "metadata": {},
   "outputs": [
    {
     "data": {
      "text/plain": [
       "[1] \"2025-01-02 09:00:00 KST\""
      ]
     },
     "metadata": {},
     "output_type": "display_data"
    }
   ],
   "source": [
    "internship_start_korea"
   ]
  },
  {
   "cell_type": "markdown",
   "id": "9fc8d16e-c488-42b5-a302-67076b072483",
   "metadata": {},
   "source": [
    "### Converting time zone"
   ]
  },
  {
   "cell_type": "code",
   "execution_count": 32,
   "id": "18f60671-ce34-44f2-8af5-7e3e9f685aed",
   "metadata": {},
   "outputs": [
    {
     "data": {
      "text/plain": [
       "[1] \"2025-01-02 09:00:00 CET\""
      ]
     },
     "metadata": {},
     "output_type": "display_data"
    }
   ],
   "source": [
    "# Keep the definition of the time but only fix the time zone\n",
    "force_tz(internship_start_korea, \"Europe/Paris\")"
   ]
  },
  {
   "cell_type": "code",
   "execution_count": 33,
   "id": "ed531bbb-d290-485e-9767-8ec4a7d663b4",
   "metadata": {},
   "outputs": [
    {
     "data": {
      "text/plain": [
       "[1] \"2025-01-02 01:00:00 CET\""
      ]
     },
     "metadata": {},
     "output_type": "display_data"
    }
   ],
   "source": [
    "with_tz(internship_start_korea, \"Europe/Paris\")"
   ]
  },
  {
   "cell_type": "code",
   "execution_count": 34,
   "id": "7bb2b513-89ba-40a8-b2bf-49555b92f1cc",
   "metadata": {},
   "outputs": [
    {
     "data": {
      "text/plain": [
       "[1] \"2025-01-01 18:00:00 CST\""
      ]
     },
     "metadata": {},
     "output_type": "display_data"
    },
    {
     "data": {
      "text/plain": [
       "[1] \"2025-01-02 11:00:00 AEDT\""
      ]
     },
     "metadata": {},
     "output_type": "display_data"
    }
   ],
   "source": [
    "with_tz(internship_start_korea, \"America/Chicago\")\n",
    "with_tz(internship_start_korea, \"Australia/Sydney\")"
   ]
  },
  {
   "cell_type": "markdown",
   "id": "821a28ce-190d-4e8f-8b85-cf0974ea9248",
   "metadata": {},
   "source": [
    "### Daylight saving time"
   ]
  },
  {
   "cell_type": "code",
   "execution_count": 35,
   "id": "36c09864-bedd-41b9-a10d-77816c9724ef",
   "metadata": {},
   "outputs": [
    {
     "data": {
      "text/plain": [
       " [1] \"2025-03-06 09:00:00 KST\" \"2025-03-13 09:00:00 KST\"\n",
       " [3] \"2025-03-20 09:00:00 KST\" \"2025-03-27 09:00:00 KST\"\n",
       " [5] \"2025-04-03 09:00:00 KST\" \"2025-04-10 09:00:00 KST\"\n",
       " [7] \"2025-04-17 09:00:00 KST\" \"2025-04-24 09:00:00 KST\"\n",
       " [9] \"2025-05-01 09:00:00 KST\" \"2025-05-08 09:00:00 KST\"\n",
       "[11] \"2025-05-15 09:00:00 KST\" \"2025-05-22 09:00:00 KST\""
      ]
     },
     "metadata": {},
     "output_type": "display_data"
    }
   ],
   "source": [
    "internship_starts <- internship_start_korea + weeks(9:20)\n",
    "internship_starts #|> hour()"
   ]
  },
  {
   "cell_type": "markdown",
   "id": "23b692ae-49d4-4499-81aa-403b73f929b6",
   "metadata": {},
   "source": [
    "Europe/Rome starts DST on the last Sunday of March, moving one hour ahead"
   ]
  },
  {
   "cell_type": "code",
   "execution_count": 36,
   "id": "7bd04dbb-5119-43f4-b185-63b25f996bc0",
   "metadata": {},
   "outputs": [
    {
     "data": {
      "text/html": [
       "<style>\n",
       ".list-inline {list-style: none; margin:0; padding: 0}\n",
       ".list-inline>li {display: inline-block}\n",
       ".list-inline>li:not(:last-child)::after {content: \"\\00b7\"; padding: 0 .5ex}\n",
       "</style>\n",
       "<ol class=list-inline><li>1</li><li>1</li><li>1</li><li>1</li><li>2</li><li>2</li><li>2</li><li>2</li><li>2</li><li>2</li><li>2</li><li>2</li></ol>\n"
      ],
      "text/latex": [
       "\\begin{enumerate*}\n",
       "\\item 1\n",
       "\\item 1\n",
       "\\item 1\n",
       "\\item 1\n",
       "\\item 2\n",
       "\\item 2\n",
       "\\item 2\n",
       "\\item 2\n",
       "\\item 2\n",
       "\\item 2\n",
       "\\item 2\n",
       "\\item 2\n",
       "\\end{enumerate*}\n"
      ],
      "text/markdown": [
       "1. 1\n",
       "2. 1\n",
       "3. 1\n",
       "4. 1\n",
       "5. 2\n",
       "6. 2\n",
       "7. 2\n",
       "8. 2\n",
       "9. 2\n",
       "10. 2\n",
       "11. 2\n",
       "12. 2\n",
       "\n",
       "\n"
      ],
      "text/plain": [
       " [1] 1 1 1 1 2 2 2 2 2 2 2 2"
      ]
     },
     "metadata": {},
     "output_type": "display_data"
    }
   ],
   "source": [
    "internship_starts |> with_tz(\"Europe/Rome\") |> hour()"
   ]
  },
  {
   "cell_type": "markdown",
   "id": "3d9567f5-8f95-40ff-92ce-46e510568604",
   "metadata": {},
   "source": [
    "America/Chicago starts DST on the second Sunday of March\n",
    "* Usually CST(Central Standard Time, UTC-6)\n",
    "* While DST, CDT(Central Daylight Time, UTC-5)"
   ]
  },
  {
   "cell_type": "code",
   "execution_count": 37,
   "id": "9fbb8ca8-6310-4701-9dfc-3e671ed28d46",
   "metadata": {},
   "outputs": [
    {
     "data": {
      "text/plain": [
       " [1] \"2025-03-05 18:00:00 CST\" \"2025-03-12 18:00:00 CDT\"\n",
       " [3] \"2025-03-19 18:00:00 CDT\" \"2025-03-26 18:00:00 CDT\"\n",
       " [5] \"2025-04-02 18:00:00 CDT\" \"2025-04-09 18:00:00 CDT\"\n",
       " [7] \"2025-04-16 18:00:00 CDT\" \"2025-04-23 18:00:00 CDT\"\n",
       " [9] \"2025-04-30 18:00:00 CDT\" \"2025-05-07 18:00:00 CDT\"\n",
       "[11] \"2025-05-14 18:00:00 CDT\" \"2025-05-21 18:00:00 CDT\""
      ]
     },
     "metadata": {},
     "output_type": "display_data"
    }
   ],
   "source": [
    "internship_starts_chicago <- with_tz(internship_start_korea, \"America/Chicago\") + weeks(9:20)\n",
    "internship_starts_chicago #|> hour()"
   ]
  },
  {
   "cell_type": "code",
   "execution_count": 38,
   "id": "b360006f-cc60-4d80-9755-f4153dd20eca",
   "metadata": {},
   "outputs": [
    {
     "data": {
      "text/html": [
       "<style>\n",
       ".list-inline {list-style: none; margin:0; padding: 0}\n",
       ".list-inline>li {display: inline-block}\n",
       ".list-inline>li:not(:last-child)::after {content: \"\\00b7\"; padding: 0 .5ex}\n",
       "</style>\n",
       "<ol class=list-inline><li>1</li><li>0</li><li>0</li><li>0</li><li>1</li><li>1</li><li>1</li><li>1</li><li>1</li><li>1</li><li>1</li><li>1</li></ol>\n"
      ],
      "text/latex": [
       "\\begin{enumerate*}\n",
       "\\item 1\n",
       "\\item 0\n",
       "\\item 0\n",
       "\\item 0\n",
       "\\item 1\n",
       "\\item 1\n",
       "\\item 1\n",
       "\\item 1\n",
       "\\item 1\n",
       "\\item 1\n",
       "\\item 1\n",
       "\\item 1\n",
       "\\end{enumerate*}\n"
      ],
      "text/markdown": [
       "1. 1\n",
       "2. 0\n",
       "3. 0\n",
       "4. 0\n",
       "5. 1\n",
       "6. 1\n",
       "7. 1\n",
       "8. 1\n",
       "9. 1\n",
       "10. 1\n",
       "11. 1\n",
       "12. 1\n",
       "\n",
       "\n"
      ],
      "text/plain": [
       " [1] 1 0 0 0 1 1 1 1 1 1 1 1"
      ]
     },
     "metadata": {},
     "output_type": "display_data"
    }
   ],
   "source": [
    "internship_starts_chicago |> with_tz(\"Europe/Rome\") |> hour()"
   ]
  },
  {
   "cell_type": "markdown",
   "id": "636862a5-ced4-498d-83d0-08a9d5c00d18",
   "metadata": {},
   "source": [
    "UTC is not affected by DST"
   ]
  },
  {
   "cell_type": "code",
   "execution_count": 39,
   "id": "5f77885f-976d-4fb3-8470-13603666854c",
   "metadata": {},
   "outputs": [
    {
     "data": {
      "text/html": [
       "<style>\n",
       ".list-inline {list-style: none; margin:0; padding: 0}\n",
       ".list-inline>li {display: inline-block}\n",
       ".list-inline>li:not(:last-child)::after {content: \"\\00b7\"; padding: 0 .5ex}\n",
       "</style>\n",
       "<ol class=list-inline><li>0</li><li>23</li><li>23</li><li>23</li><li>23</li><li>23</li><li>23</li><li>23</li><li>23</li><li>23</li><li>23</li><li>23</li></ol>\n"
      ],
      "text/latex": [
       "\\begin{enumerate*}\n",
       "\\item 0\n",
       "\\item 23\n",
       "\\item 23\n",
       "\\item 23\n",
       "\\item 23\n",
       "\\item 23\n",
       "\\item 23\n",
       "\\item 23\n",
       "\\item 23\n",
       "\\item 23\n",
       "\\item 23\n",
       "\\item 23\n",
       "\\end{enumerate*}\n"
      ],
      "text/markdown": [
       "1. 0\n",
       "2. 23\n",
       "3. 23\n",
       "4. 23\n",
       "5. 23\n",
       "6. 23\n",
       "7. 23\n",
       "8. 23\n",
       "9. 23\n",
       "10. 23\n",
       "11. 23\n",
       "12. 23\n",
       "\n",
       "\n"
      ],
      "text/plain": [
       " [1]  0 23 23 23 23 23 23 23 23 23 23 23"
      ]
     },
     "metadata": {},
     "output_type": "display_data"
    }
   ],
   "source": [
    "internship_starts_chicago |> with_tz(\"UTC\") |> hour()"
   ]
  },
  {
   "cell_type": "markdown",
   "id": "127cdf5a-c7cb-4992-bec9-163cf483d546",
   "metadata": {},
   "source": [
    "Australia/Sydney ends DST on the first Sunday of April\n"
   ]
  },
  {
   "cell_type": "code",
   "execution_count": 40,
   "id": "9655d646-d70c-4614-8eae-e83f597c9854",
   "metadata": {},
   "outputs": [
    {
     "data": {
      "text/html": [
       "<style>\n",
       ".list-inline {list-style: none; margin:0; padding: 0}\n",
       ".list-inline>li {display: inline-block}\n",
       ".list-inline>li:not(:last-child)::after {content: \"\\00b7\"; padding: 0 .5ex}\n",
       "</style>\n",
       "<ol class=list-inline><li>11</li><li>10</li><li>10</li><li>10</li><li>10</li><li>9</li><li>9</li><li>9</li><li>9</li><li>9</li><li>9</li><li>9</li></ol>\n"
      ],
      "text/latex": [
       "\\begin{enumerate*}\n",
       "\\item 11\n",
       "\\item 10\n",
       "\\item 10\n",
       "\\item 10\n",
       "\\item 10\n",
       "\\item 9\n",
       "\\item 9\n",
       "\\item 9\n",
       "\\item 9\n",
       "\\item 9\n",
       "\\item 9\n",
       "\\item 9\n",
       "\\end{enumerate*}\n"
      ],
      "text/markdown": [
       "1. 11\n",
       "2. 10\n",
       "3. 10\n",
       "4. 10\n",
       "5. 10\n",
       "6. 9\n",
       "7. 9\n",
       "8. 9\n",
       "9. 9\n",
       "10. 9\n",
       "11. 9\n",
       "12. 9\n",
       "\n",
       "\n"
      ],
      "text/plain": [
       " [1] 11 10 10 10 10  9  9  9  9  9  9  9"
      ]
     },
     "metadata": {},
     "output_type": "display_data"
    }
   ],
   "source": [
    "internship_starts_chicago |> with_tz(\"Australia/Sydney\") |> hour()"
   ]
  }
 ],
 "metadata": {
  "kernelspec": {
   "display_name": "R",
   "language": "R",
   "name": "ir"
  },
  "language_info": {
   "codemirror_mode": "r",
   "file_extension": ".r",
   "mimetype": "text/x-r-source",
   "name": "R",
   "pygments_lexer": "r",
   "version": "4.4.2"
  }
 },
 "nbformat": 4,
 "nbformat_minor": 5
}
