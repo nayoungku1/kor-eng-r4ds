{
 "cells": [
  {
   "cell_type": "markdown",
   "id": "61f8000a-0e14-4775-9ec4-1786907686cd",
   "metadata": {},
   "source": [
    "2025 CCADD Winter Internship - Book Reading Session"
   ]
  },
  {
   "cell_type": "markdown",
   "id": "51c2d8f5-00b8-43c0-b0fe-4805c7972a3a",
   "metadata": {},
   "source": [
    "#### ***Copyright Notice***\n",
    "\n",
    "This notebook was created as part of an internship program for educational and non-commercial purposes. It is based on content from *R for Data Science* (2nd edition) by Hadley Wickham, Mine Cetinkaya-Rundel, and Garrett Grolemund. The original book is licensed under the Creative Commons Attribution-NonCommercial-NoDerivatives 4.0 International License. \n",
    "\n",
    "This notebook is not a substitute for the original book, and participants are encouraged to refer to the official publication for comprehensive understanding. \n",
    "\n",
    "© Nayoung Ku, 2025. All rights reserved. Redistribution of this notebook is permitted for educational purposes only with proper attribution."
   ]
  },
  {
   "cell_type": "markdown",
   "id": "303c4be8-6a5e-4241-8ba7-e669e5e87510",
   "metadata": {},
   "source": [
    "# Chapter 16: Factors\n",
    "* https://r4ds.hadley.nz/factors"
   ]
  },
  {
   "cell_type": "markdown",
   "id": "2d20893c-2162-4857-b4e9-cc2292fbc3a7",
   "metadata": {},
   "source": [
    "## 0. Introduction\n",
    "### What is factor\n",
    "Categorical data, often stored as \"factors\" in R, represents variables with a  fixed set of possible values.\n",
    "\n",
    "* Factors are **R's data structure** for **categorical** data.\n",
    "* They have **defined** set of levels, which helps enforce data integrity and allows for efficient storage\n",
    "    * Example: days of the week, survey responses\n",
    "* They may be ordered or unordered \n",
    "\n",
    "### Why is it important?\n",
    "* By restricting variables to predefined levels\n",
    "    * **Data integrity**: Prevents invalid categories.      \n",
    "* By leveraging the levels' structure,\n",
    "    * **Accurate analysis**: Enables proper statistical modeling and summarization.\n",
    "    * **Effective visualization**: Controls the order and grouping in plots.\n",
    "\n",
    "### Objectives:\n",
    "1. **Create** `factor` variables\n",
    "2. Explore the **General Social Survey** dataset via `forcats::gss_cat`\n",
    "3. **Reorder** factor levels\n",
    "4. **Modify** factor levels"
   ]
  },
  {
   "cell_type": "code",
   "execution_count": 1,
   "id": "ba5fdfd8-6b82-4fe0-9f00-c9771d2893d6",
   "metadata": {},
   "outputs": [
    {
     "name": "stderr",
     "output_type": "stream",
     "text": [
      "── \u001b[1mAttaching core tidyverse packages\u001b[22m ──────────────────────── tidyverse 2.0.0 ──\n",
      "\u001b[32m✔\u001b[39m \u001b[34mdplyr    \u001b[39m 1.1.4     \u001b[32m✔\u001b[39m \u001b[34mreadr    \u001b[39m 2.1.5\n",
      "\u001b[32m✔\u001b[39m \u001b[34mforcats  \u001b[39m 1.0.0     \u001b[32m✔\u001b[39m \u001b[34mstringr  \u001b[39m 1.5.1\n",
      "\u001b[32m✔\u001b[39m \u001b[34mggplot2  \u001b[39m 3.5.1     \u001b[32m✔\u001b[39m \u001b[34mtibble   \u001b[39m 3.2.1\n",
      "\u001b[32m✔\u001b[39m \u001b[34mlubridate\u001b[39m 1.9.4     \u001b[32m✔\u001b[39m \u001b[34mtidyr    \u001b[39m 1.3.1\n",
      "\u001b[32m✔\u001b[39m \u001b[34mpurrr    \u001b[39m 1.0.2     \n",
      "── \u001b[1mConflicts\u001b[22m ────────────────────────────────────────── tidyverse_conflicts() ──\n",
      "\u001b[31m✖\u001b[39m \u001b[34mdplyr\u001b[39m::\u001b[32mfilter()\u001b[39m masks \u001b[34mstats\u001b[39m::filter()\n",
      "\u001b[31m✖\u001b[39m \u001b[34mdplyr\u001b[39m::\u001b[32mlag()\u001b[39m    masks \u001b[34mstats\u001b[39m::lag()\n",
      "\u001b[36mℹ\u001b[39m Use the conflicted package (\u001b[3m\u001b[34m<http://conflicted.r-lib.org/>\u001b[39m\u001b[23m) to force all conflicts to become errors\n"
     ]
    }
   ],
   "source": [
    "library(tidyverse)"
   ]
  },
  {
   "cell_type": "markdown",
   "id": "4b8384b2-0b66-4882-85e9-bcaeab2a3961",
   "metadata": {},
   "source": [
    "## 1. Create factors\n",
    "### `factor()`: create factor from a character or numeric vector "
   ]
  },
  {
   "cell_type": "markdown",
   "id": "57da45c6-eb1d-4af8-b776-d67321782a31",
   "metadata": {},
   "source": [
    "If the set is fixed and we **already know the possible values for it**, which are not in alphabetical order, it is useful to display it as a factor."
   ]
  },
  {
   "cell_type": "code",
   "execution_count": 2,
   "id": "df132e85-3653-47c2-b10d-b7a548eec4f3",
   "metadata": {},
   "outputs": [],
   "source": [
    "### Example: Month\n",
    "\n",
    "# Create a list of the valid levels\n",
    "month_levels <- c(\n",
    "    \"Jan\", \"Feb\", \"Mar\", \"Apr\", \"May\", \"Jun\", \n",
    "    \"Jul\", \"Aug\", \"Sep\", \"Oct\", \"Nov\", \"Dec\"\n",
    ")"
   ]
  },
  {
   "cell_type": "code",
   "execution_count": 3,
   "id": "e00339a2-d4fc-41b0-b9b7-fc1473aeee80",
   "metadata": {},
   "outputs": [],
   "source": [
    "x1 <- c(\"Dec\", \"Apr\", \"Jan\", \"Mar\")\n",
    "x2 <- c(\"Dec\", \"Apr\", \"Jam\", \"Mar\") # Issue #1: typo problem"
   ]
  },
  {
   "cell_type": "code",
   "execution_count": 4,
   "id": "64d43e46-68cc-44dd-a7c9-5a4b5cd13a63",
   "metadata": {},
   "outputs": [
    {
     "name": "stdout",
     "output_type": "stream",
     "text": [
      "[1] \"character\"\n",
      "[1] \"Dec\" \"Apr\" \"Jan\" \"Mar\"\n"
     ]
    },
    {
     "data": {
      "text/html": [
       "<style>\n",
       ".list-inline {list-style: none; margin:0; padding: 0}\n",
       ".list-inline>li {display: inline-block}\n",
       ".list-inline>li:not(:last-child)::after {content: \"\\00b7\"; padding: 0 .5ex}\n",
       "</style>\n",
       "<ol class=list-inline><li>'Apr'</li><li>'Dec'</li><li>'Jan'</li><li>'Mar'</li></ol>\n"
      ],
      "text/latex": [
       "\\begin{enumerate*}\n",
       "\\item 'Apr'\n",
       "\\item 'Dec'\n",
       "\\item 'Jan'\n",
       "\\item 'Mar'\n",
       "\\end{enumerate*}\n"
      ],
      "text/markdown": [
       "1. 'Apr'\n",
       "2. 'Dec'\n",
       "3. 'Jan'\n",
       "4. 'Mar'\n",
       "\n",
       "\n"
      ],
      "text/plain": [
       "[1] \"Apr\" \"Dec\" \"Jan\" \"Mar\""
      ]
     },
     "metadata": {},
     "output_type": "display_data"
    }
   ],
   "source": [
    "print(class(x1))\n",
    "print(x1) \n",
    "sort(x1) # Issue #2: Alphabetic order does not match with month level"
   ]
  },
  {
   "cell_type": "markdown",
   "id": "08180cc5-749d-46cc-a72d-6ba2cbefd23a",
   "metadata": {},
   "source": [
    "Using factors can fix the issues with strings"
   ]
  },
  {
   "cell_type": "code",
   "execution_count": 5,
   "id": "cea26275-e1bc-4f92-98e9-a877a417a5e0",
   "metadata": {},
   "outputs": [
    {
     "name": "stdout",
     "output_type": "stream",
     "text": [
      "[1] \"factor\"\n",
      "[1] Dec Apr Jan Mar\n",
      "Levels: Jan Feb Mar Apr May Jun Jul Aug Sep Oct Nov Dec\n"
     ]
    },
    {
     "data": {
      "text/html": [
       "<style>\n",
       ".list-inline {list-style: none; margin:0; padding: 0}\n",
       ".list-inline>li {display: inline-block}\n",
       ".list-inline>li:not(:last-child)::after {content: \"\\00b7\"; padding: 0 .5ex}\n",
       "</style>\n",
       "<ol class=list-inline><li>Jan</li><li>Mar</li><li>Apr</li><li>Dec</li></ol>\n",
       "\n",
       "<details>\n",
       "\t<summary style=display:list-item;cursor:pointer>\n",
       "\t\t<strong>Levels</strong>:\n",
       "\t</summary>\n",
       "\t<style>\n",
       "\t.list-inline {list-style: none; margin:0; padding: 0}\n",
       "\t.list-inline>li {display: inline-block}\n",
       "\t.list-inline>li:not(:last-child)::after {content: \"\\00b7\"; padding: 0 .5ex}\n",
       "\t</style>\n",
       "\t<ol class=list-inline><li>'Jan'</li><li>'Feb'</li><li>'Mar'</li><li>'Apr'</li><li>'May'</li><li>'Jun'</li><li>'Jul'</li><li>'Aug'</li><li>'Sep'</li><li>'Oct'</li><li>'Nov'</li><li>'Dec'</li></ol>\n",
       "</details>"
      ],
      "text/latex": [
       "\\begin{enumerate*}\n",
       "\\item Jan\n",
       "\\item Mar\n",
       "\\item Apr\n",
       "\\item Dec\n",
       "\\end{enumerate*}\n",
       "\n",
       "\\emph{Levels}: \\begin{enumerate*}\n",
       "\\item 'Jan'\n",
       "\\item 'Feb'\n",
       "\\item 'Mar'\n",
       "\\item 'Apr'\n",
       "\\item 'May'\n",
       "\\item 'Jun'\n",
       "\\item 'Jul'\n",
       "\\item 'Aug'\n",
       "\\item 'Sep'\n",
       "\\item 'Oct'\n",
       "\\item 'Nov'\n",
       "\\item 'Dec'\n",
       "\\end{enumerate*}\n"
      ],
      "text/markdown": [
       "1. Jan\n",
       "2. Mar\n",
       "3. Apr\n",
       "4. Dec\n",
       "\n",
       "\n",
       "\n",
       "**Levels**: 1. 'Jan'\n",
       "2. 'Feb'\n",
       "3. 'Mar'\n",
       "4. 'Apr'\n",
       "5. 'May'\n",
       "6. 'Jun'\n",
       "7. 'Jul'\n",
       "8. 'Aug'\n",
       "9. 'Sep'\n",
       "10. 'Oct'\n",
       "11. 'Nov'\n",
       "12. 'Dec'\n",
       "\n",
       "\n"
      ],
      "text/plain": [
       "[1] Jan Mar Apr Dec\n",
       "Levels: Jan Feb Mar Apr May Jun Jul Aug Sep Oct Nov Dec"
      ]
     },
     "metadata": {},
     "output_type": "display_data"
    }
   ],
   "source": [
    "# Create a factor >> follow specific order\n",
    "y1 <- factor(x1, levels = month_levels)\n",
    "print(class(y1))\n",
    "print(y1) #Before sort: same with chr\n",
    "sort(y1) "
   ]
  },
  {
   "cell_type": "code",
   "execution_count": 6,
   "id": "767215da-a443-4f93-8285-5dd541100d04",
   "metadata": {},
   "outputs": [
    {
     "name": "stdout",
     "output_type": "stream",
     "text": [
      "[1] \"factor\"\n"
     ]
    },
    {
     "data": {
      "text/html": [
       "<style>\n",
       ".list-inline {list-style: none; margin:0; padding: 0}\n",
       ".list-inline>li {display: inline-block}\n",
       ".list-inline>li:not(:last-child)::after {content: \"\\00b7\"; padding: 0 .5ex}\n",
       "</style>\n",
       "<ol class=list-inline><li>Dec</li><li>Apr</li><li>&lt;NA&gt;</li><li>Mar</li></ol>\n",
       "\n",
       "<details>\n",
       "\t<summary style=display:list-item;cursor:pointer>\n",
       "\t\t<strong>Levels</strong>:\n",
       "\t</summary>\n",
       "\t<style>\n",
       "\t.list-inline {list-style: none; margin:0; padding: 0}\n",
       "\t.list-inline>li {display: inline-block}\n",
       "\t.list-inline>li:not(:last-child)::after {content: \"\\00b7\"; padding: 0 .5ex}\n",
       "\t</style>\n",
       "\t<ol class=list-inline><li>'Jan'</li><li>'Feb'</li><li>'Mar'</li><li>'Apr'</li><li>'May'</li><li>'Jun'</li><li>'Jul'</li><li>'Aug'</li><li>'Sep'</li><li>'Oct'</li><li>'Nov'</li><li>'Dec'</li></ol>\n",
       "</details>"
      ],
      "text/latex": [
       "\\begin{enumerate*}\n",
       "\\item Dec\n",
       "\\item Apr\n",
       "\\item <NA>\n",
       "\\item Mar\n",
       "\\end{enumerate*}\n",
       "\n",
       "\\emph{Levels}: \\begin{enumerate*}\n",
       "\\item 'Jan'\n",
       "\\item 'Feb'\n",
       "\\item 'Mar'\n",
       "\\item 'Apr'\n",
       "\\item 'May'\n",
       "\\item 'Jun'\n",
       "\\item 'Jul'\n",
       "\\item 'Aug'\n",
       "\\item 'Sep'\n",
       "\\item 'Oct'\n",
       "\\item 'Nov'\n",
       "\\item 'Dec'\n",
       "\\end{enumerate*}\n"
      ],
      "text/markdown": [
       "1. Dec\n",
       "2. Apr\n",
       "3. &lt;NA&gt;\n",
       "4. Mar\n",
       "\n",
       "\n",
       "\n",
       "**Levels**: 1. 'Jan'\n",
       "2. 'Feb'\n",
       "3. 'Mar'\n",
       "4. 'Apr'\n",
       "5. 'May'\n",
       "6. 'Jun'\n",
       "7. 'Jul'\n",
       "8. 'Aug'\n",
       "9. 'Sep'\n",
       "10. 'Oct'\n",
       "11. 'Nov'\n",
       "12. 'Dec'\n",
       "\n",
       "\n"
      ],
      "text/plain": [
       "[1] Dec  Apr  <NA> Mar \n",
       "Levels: Jan Feb Mar Apr May Jun Jul Aug Sep Oct Nov Dec"
      ]
     },
     "metadata": {},
     "output_type": "display_data"
    }
   ],
   "source": [
    "y2 <- factor(x2, levels = month_levels)\n",
    "print(class(y2))\n",
    "#**WARNING**: Value not in the level (typo) is automatically converted to NA\n",
    "y2 "
   ]
  },
  {
   "cell_type": "code",
   "execution_count": 7,
   "id": "0f64696f-45c4-4b9d-ad4b-f13f488eb9ca",
   "metadata": {},
   "outputs": [
    {
     "name": "stdout",
     "output_type": "stream",
     "text": [
      "[1] Dec Apr Jan Mar\n",
      "Levels: Apr Dec Jan Mar\n"
     ]
    }
   ],
   "source": [
    "print(factor(x1)) #not defining specific level -> alphabetic order"
   ]
  },
  {
   "cell_type": "code",
   "execution_count": 8,
   "id": "23ec0a76-bc74-4dca-8fdc-ba9147d1d389",
   "metadata": {
    "scrolled": true
   },
   "outputs": [
    {
     "data": {
      "text/html": [
       "<style>\n",
       ".list-inline {list-style: none; margin:0; padding: 0}\n",
       ".list-inline>li {display: inline-block}\n",
       ".list-inline>li:not(:last-child)::after {content: \"\\00b7\"; padding: 0 .5ex}\n",
       "</style>\n",
       "<ol class=list-inline><li>'Jan'</li><li>'Feb'</li><li>'Mar'</li><li>'Apr'</li><li>'May'</li><li>'Jun'</li><li>'Jul'</li><li>'Aug'</li><li>'Sep'</li><li>'Oct'</li><li>'Nov'</li><li>'Dec'</li></ol>\n"
      ],
      "text/latex": [
       "\\begin{enumerate*}\n",
       "\\item 'Jan'\n",
       "\\item 'Feb'\n",
       "\\item 'Mar'\n",
       "\\item 'Apr'\n",
       "\\item 'May'\n",
       "\\item 'Jun'\n",
       "\\item 'Jul'\n",
       "\\item 'Aug'\n",
       "\\item 'Sep'\n",
       "\\item 'Oct'\n",
       "\\item 'Nov'\n",
       "\\item 'Dec'\n",
       "\\end{enumerate*}\n"
      ],
      "text/markdown": [
       "1. 'Jan'\n",
       "2. 'Feb'\n",
       "3. 'Mar'\n",
       "4. 'Apr'\n",
       "5. 'May'\n",
       "6. 'Jun'\n",
       "7. 'Jul'\n",
       "8. 'Aug'\n",
       "9. 'Sep'\n",
       "10. 'Oct'\n",
       "11. 'Nov'\n",
       "12. 'Dec'\n",
       "\n",
       "\n"
      ],
      "text/plain": [
       " [1] \"Jan\" \"Feb\" \"Mar\" \"Apr\" \"May\" \"Jun\" \"Jul\" \"Aug\" \"Sep\" \"Oct\" \"Nov\" \"Dec\""
      ]
     },
     "metadata": {},
     "output_type": "display_data"
    }
   ],
   "source": [
    "levels(y1)"
   ]
  },
  {
   "cell_type": "markdown",
   "id": "3eabb574-a5cc-47fc-8e1c-dd6763b6bb3c",
   "metadata": {},
   "source": [
    "### `forcats::fct()`: similar with `factor()` but...\n",
    "\n",
    "Error in `fct()`:\n",
    "* All values of `x` must appear in `levels` or `na`\n",
    "* Missing level: \"Jam\""
   ]
  },
  {
   "cell_type": "code",
   "execution_count": 9,
   "id": "9e040f15-5547-4f53-8cbf-b87a914294db",
   "metadata": {},
   "outputs": [
    {
     "ename": "ERROR",
     "evalue": "\u001b[1m\u001b[33mError\u001b[39m in `fct()`:\u001b[22m\n\u001b[1m\u001b[22m\u001b[33m!\u001b[39m All values of `x` must appear in `levels` or `na`\n\u001b[36mℹ\u001b[39m Missing level: \"Jam\"\n",
     "output_type": "error",
     "traceback": [
      "\u001b[1m\u001b[33mError\u001b[39m in `fct()`:\u001b[22m\n\u001b[1m\u001b[22m\u001b[33m!\u001b[39m All values of `x` must appear in `levels` or `na`\n\u001b[36mℹ\u001b[39m Missing level: \"Jam\"\nTraceback:\n",
      "1. cli::cli_abort(c(\"All values of {.arg x} must appear in {.arg levels} or {.arg na}\", \n .     i = \"Missing level{?s}: {.str {invalid}}\"))",
      "2. rlang::abort(message, ..., call = call, use_cli_format = TRUE, \n .     .frame = .frame)",
      "3. signal_abort(cnd, .file)",
      "4. signalCondition(cnd)"
     ]
    }
   ],
   "source": [
    "y2 <- fct(x2, levels = month_levels)"
   ]
  },
  {
   "cell_type": "markdown",
   "id": "b23513ae-e986-4cd7-8713-a698e83ae346",
   "metadata": {},
   "source": [
    "### `col_factor()`: Define a column as factor when you read a file\n",
    "* df <- read_csv(csv, col_types = cols(month = `col_factor(month_levels)`))"
   ]
  },
  {
   "cell_type": "code",
   "execution_count": 10,
   "id": "fe3ab09e-92eb-4fb5-a4fc-87f7dab0b487",
   "metadata": {},
   "outputs": [],
   "source": [
    "csv <- \"\n",
    "month,value\n",
    "Jan,12\n",
    "Feb,56\n",
    "Mar,12\n",
    "\""
   ]
  },
  {
   "cell_type": "code",
   "execution_count": 11,
   "id": "fa2d6435-c84d-48b8-bd83-888b388bb784",
   "metadata": {},
   "outputs": [
    {
     "data": {
      "text/html": [
       "<style>\n",
       ".list-inline {list-style: none; margin:0; padding: 0}\n",
       ".list-inline>li {display: inline-block}\n",
       ".list-inline>li:not(:last-child)::after {content: \"\\00b7\"; padding: 0 .5ex}\n",
       "</style>\n",
       "<ol class=list-inline><li>Jan</li><li>Feb</li><li>Mar</li></ol>\n",
       "\n",
       "<details>\n",
       "\t<summary style=display:list-item;cursor:pointer>\n",
       "\t\t<strong>Levels</strong>:\n",
       "\t</summary>\n",
       "\t<style>\n",
       "\t.list-inline {list-style: none; margin:0; padding: 0}\n",
       "\t.list-inline>li {display: inline-block}\n",
       "\t.list-inline>li:not(:last-child)::after {content: \"\\00b7\"; padding: 0 .5ex}\n",
       "\t</style>\n",
       "\t<ol class=list-inline><li>'Jan'</li><li>'Feb'</li><li>'Mar'</li><li>'Apr'</li><li>'May'</li><li>'Jun'</li><li>'Jul'</li><li>'Aug'</li><li>'Sep'</li><li>'Oct'</li><li>'Nov'</li><li>'Dec'</li></ol>\n",
       "</details>"
      ],
      "text/latex": [
       "\\begin{enumerate*}\n",
       "\\item Jan\n",
       "\\item Feb\n",
       "\\item Mar\n",
       "\\end{enumerate*}\n",
       "\n",
       "\\emph{Levels}: \\begin{enumerate*}\n",
       "\\item 'Jan'\n",
       "\\item 'Feb'\n",
       "\\item 'Mar'\n",
       "\\item 'Apr'\n",
       "\\item 'May'\n",
       "\\item 'Jun'\n",
       "\\item 'Jul'\n",
       "\\item 'Aug'\n",
       "\\item 'Sep'\n",
       "\\item 'Oct'\n",
       "\\item 'Nov'\n",
       "\\item 'Dec'\n",
       "\\end{enumerate*}\n"
      ],
      "text/markdown": [
       "1. Jan\n",
       "2. Feb\n",
       "3. Mar\n",
       "\n",
       "\n",
       "\n",
       "**Levels**: 1. 'Jan'\n",
       "2. 'Feb'\n",
       "3. 'Mar'\n",
       "4. 'Apr'\n",
       "5. 'May'\n",
       "6. 'Jun'\n",
       "7. 'Jul'\n",
       "8. 'Aug'\n",
       "9. 'Sep'\n",
       "10. 'Oct'\n",
       "11. 'Nov'\n",
       "12. 'Dec'\n",
       "\n",
       "\n"
      ],
      "text/plain": [
       "[1] Jan Feb Mar\n",
       "Levels: Jan Feb Mar Apr May Jun Jul Aug Sep Oct Nov Dec"
      ]
     },
     "metadata": {},
     "output_type": "display_data"
    }
   ],
   "source": [
    "df <- read_csv(csv, col_types = cols(month = col_factor(month_levels)))\n",
    "df$month"
   ]
  },
  {
   "cell_type": "markdown",
   "id": "50a058ad-5414-491d-8b72-ed245a48fc4d",
   "metadata": {},
   "source": [
    "### [Tip 💡] If you want to order the levels to match the order of the first appearance in the data:\n",
    "1. `unique()`\n",
    "2. `fct_inorder()`"
   ]
  },
  {
   "cell_type": "code",
   "execution_count": 12,
   "id": "2e7e3343-c9b0-4576-a2af-65089b7d6375",
   "metadata": {
    "scrolled": true
   },
   "outputs": [
    {
     "data": {
      "text/html": [
       "<style>\n",
       ".list-inline {list-style: none; margin:0; padding: 0}\n",
       ".list-inline>li {display: inline-block}\n",
       ".list-inline>li:not(:last-child)::after {content: \"\\00b7\"; padding: 0 .5ex}\n",
       "</style>\n",
       "<ol class=list-inline><li>Dec</li><li>Apr</li><li>Jan</li><li>Mar</li><li>Dec</li></ol>\n",
       "\n",
       "<details>\n",
       "\t<summary style=display:list-item;cursor:pointer>\n",
       "\t\t<strong>Levels</strong>:\n",
       "\t</summary>\n",
       "\t<style>\n",
       "\t.list-inline {list-style: none; margin:0; padding: 0}\n",
       "\t.list-inline>li {display: inline-block}\n",
       "\t.list-inline>li:not(:last-child)::after {content: \"\\00b7\"; padding: 0 .5ex}\n",
       "\t</style>\n",
       "\t<ol class=list-inline><li>'Dec'</li><li>'Apr'</li><li>'Jan'</li><li>'Mar'</li></ol>\n",
       "</details>"
      ],
      "text/latex": [
       "\\begin{enumerate*}\n",
       "\\item Dec\n",
       "\\item Apr\n",
       "\\item Jan\n",
       "\\item Mar\n",
       "\\item Dec\n",
       "\\end{enumerate*}\n",
       "\n",
       "\\emph{Levels}: \\begin{enumerate*}\n",
       "\\item 'Dec'\n",
       "\\item 'Apr'\n",
       "\\item 'Jan'\n",
       "\\item 'Mar'\n",
       "\\end{enumerate*}\n"
      ],
      "text/markdown": [
       "1. Dec\n",
       "2. Apr\n",
       "3. Jan\n",
       "4. Mar\n",
       "5. Dec\n",
       "\n",
       "\n",
       "\n",
       "**Levels**: 1. 'Dec'\n",
       "2. 'Apr'\n",
       "3. 'Jan'\n",
       "4. 'Mar'\n",
       "\n",
       "\n"
      ],
      "text/plain": [
       "[1] Dec Apr Jan Mar Dec\n",
       "Levels: Dec Apr Jan Mar"
      ]
     },
     "metadata": {},
     "output_type": "display_data"
    }
   ],
   "source": [
    "x1 <- c('Dec','Apr','Jan','Mar',\"Dec\")\n",
    "f1 <- factor(x1, levels = unique(x1)) \n",
    "f1"
   ]
  },
  {
   "cell_type": "code",
   "execution_count": 13,
   "id": "6ef14423-3896-406c-a273-ef659acb81ec",
   "metadata": {},
   "outputs": [
    {
     "data": {
      "text/html": [
       "<style>\n",
       ".list-inline {list-style: none; margin:0; padding: 0}\n",
       ".list-inline>li {display: inline-block}\n",
       ".list-inline>li:not(:last-child)::after {content: \"\\00b7\"; padding: 0 .5ex}\n",
       "</style>\n",
       "<ol class=list-inline><li>Dec</li><li>Dec</li><li>Apr</li><li>Jan</li><li>Mar</li></ol>\n",
       "\n",
       "<details>\n",
       "\t<summary style=display:list-item;cursor:pointer>\n",
       "\t\t<strong>Levels</strong>:\n",
       "\t</summary>\n",
       "\t<style>\n",
       "\t.list-inline {list-style: none; margin:0; padding: 0}\n",
       "\t.list-inline>li {display: inline-block}\n",
       "\t.list-inline>li:not(:last-child)::after {content: \"\\00b7\"; padding: 0 .5ex}\n",
       "\t</style>\n",
       "\t<ol class=list-inline><li>'Dec'</li><li>'Apr'</li><li>'Jan'</li><li>'Mar'</li></ol>\n",
       "</details>"
      ],
      "text/latex": [
       "\\begin{enumerate*}\n",
       "\\item Dec\n",
       "\\item Dec\n",
       "\\item Apr\n",
       "\\item Jan\n",
       "\\item Mar\n",
       "\\end{enumerate*}\n",
       "\n",
       "\\emph{Levels}: \\begin{enumerate*}\n",
       "\\item 'Dec'\n",
       "\\item 'Apr'\n",
       "\\item 'Jan'\n",
       "\\item 'Mar'\n",
       "\\end{enumerate*}\n"
      ],
      "text/markdown": [
       "1. Dec\n",
       "2. Dec\n",
       "3. Apr\n",
       "4. Jan\n",
       "5. Mar\n",
       "\n",
       "\n",
       "\n",
       "**Levels**: 1. 'Dec'\n",
       "2. 'Apr'\n",
       "3. 'Jan'\n",
       "4. 'Mar'\n",
       "\n",
       "\n"
      ],
      "text/plain": [
       "[1] Dec Dec Apr Jan Mar\n",
       "Levels: Dec Apr Jan Mar"
      ]
     },
     "metadata": {},
     "output_type": "display_data"
    }
   ],
   "source": [
    "f2 <- x1 |> factor() |> \n",
    "fct_inorder()\n",
    "sort(f2)"
   ]
  },
  {
   "cell_type": "markdown",
   "id": "649b7a7d-b09c-4b49-8e71-ca80055004f7",
   "metadata": {},
   "source": [
    "---\n",
    "## 2. General Social Survey (`gss_cat`) Dataset"
   ]
  },
  {
   "cell_type": "markdown",
   "id": "dd1e9762-0b31-4ce2-8b1d-c09658f4ad27",
   "metadata": {},
   "source": [
    "### Dataset introduction\n",
    "* A tibble with 21483 obervations & 9 columns"
   ]
  },
  {
   "cell_type": "code",
   "execution_count": 14,
   "id": "1afcf91e-96d5-4b9a-82c0-06a13b0f8e04",
   "metadata": {},
   "outputs": [
    {
     "data": {
      "text/html": [
       "<table class=\"dataframe\">\n",
       "<caption>A tibble: 6 × 9</caption>\n",
       "<thead>\n",
       "\t<tr><th scope=col>year</th><th scope=col>marital</th><th scope=col>age</th><th scope=col>race</th><th scope=col>rincome</th><th scope=col>partyid</th><th scope=col>relig</th><th scope=col>denom</th><th scope=col>tvhours</th></tr>\n",
       "\t<tr><th scope=col>&lt;int&gt;</th><th scope=col>&lt;fct&gt;</th><th scope=col>&lt;int&gt;</th><th scope=col>&lt;fct&gt;</th><th scope=col>&lt;fct&gt;</th><th scope=col>&lt;fct&gt;</th><th scope=col>&lt;fct&gt;</th><th scope=col>&lt;fct&gt;</th><th scope=col>&lt;int&gt;</th></tr>\n",
       "</thead>\n",
       "<tbody>\n",
       "\t<tr><td>2000</td><td>Never married</td><td>26</td><td>White</td><td>$8000 to 9999 </td><td>Ind,near rep      </td><td>Protestant        </td><td>Southern baptist</td><td>12</td></tr>\n",
       "\t<tr><td>2000</td><td>Divorced     </td><td>48</td><td>White</td><td>$8000 to 9999 </td><td>Not str republican</td><td>Protestant        </td><td>Baptist-dk which</td><td>NA</td></tr>\n",
       "\t<tr><td>2000</td><td>Widowed      </td><td>67</td><td>White</td><td>Not applicable</td><td>Independent       </td><td>Protestant        </td><td>No denomination </td><td> 2</td></tr>\n",
       "\t<tr><td>2000</td><td>Never married</td><td>39</td><td>White</td><td>Not applicable</td><td>Ind,near rep      </td><td>Orthodox-christian</td><td>Not applicable  </td><td> 4</td></tr>\n",
       "\t<tr><td>2000</td><td>Divorced     </td><td>25</td><td>White</td><td>Not applicable</td><td>Not str democrat  </td><td>None              </td><td>Not applicable  </td><td> 1</td></tr>\n",
       "\t<tr><td>2000</td><td>Married      </td><td>25</td><td>White</td><td>$20000 - 24999</td><td>Strong democrat   </td><td>Protestant        </td><td>Southern baptist</td><td>NA</td></tr>\n",
       "</tbody>\n",
       "</table>\n"
      ],
      "text/latex": [
       "A tibble: 6 × 9\n",
       "\\begin{tabular}{lllllllll}\n",
       " year & marital & age & race & rincome & partyid & relig & denom & tvhours\\\\\n",
       " <int> & <fct> & <int> & <fct> & <fct> & <fct> & <fct> & <fct> & <int>\\\\\n",
       "\\hline\n",
       "\t 2000 & Never married & 26 & White & \\$8000 to 9999  & Ind,near rep       & Protestant         & Southern baptist & 12\\\\\n",
       "\t 2000 & Divorced      & 48 & White & \\$8000 to 9999  & Not str republican & Protestant         & Baptist-dk which & NA\\\\\n",
       "\t 2000 & Widowed       & 67 & White & Not applicable & Independent        & Protestant         & No denomination  &  2\\\\\n",
       "\t 2000 & Never married & 39 & White & Not applicable & Ind,near rep       & Orthodox-christian & Not applicable   &  4\\\\\n",
       "\t 2000 & Divorced      & 25 & White & Not applicable & Not str democrat   & None               & Not applicable   &  1\\\\\n",
       "\t 2000 & Married       & 25 & White & \\$20000 - 24999 & Strong democrat    & Protestant         & Southern baptist & NA\\\\\n",
       "\\end{tabular}\n"
      ],
      "text/markdown": [
       "\n",
       "A tibble: 6 × 9\n",
       "\n",
       "| year &lt;int&gt; | marital &lt;fct&gt; | age &lt;int&gt; | race &lt;fct&gt; | rincome &lt;fct&gt; | partyid &lt;fct&gt; | relig &lt;fct&gt; | denom &lt;fct&gt; | tvhours &lt;int&gt; |\n",
       "|---|---|---|---|---|---|---|---|---|\n",
       "| 2000 | Never married | 26 | White | $8000 to 9999  | Ind,near rep       | Protestant         | Southern baptist | 12 |\n",
       "| 2000 | Divorced      | 48 | White | $8000 to 9999  | Not str republican | Protestant         | Baptist-dk which | NA |\n",
       "| 2000 | Widowed       | 67 | White | Not applicable | Independent        | Protestant         | No denomination  |  2 |\n",
       "| 2000 | Never married | 39 | White | Not applicable | Ind,near rep       | Orthodox-christian | Not applicable   |  4 |\n",
       "| 2000 | Divorced      | 25 | White | Not applicable | Not str democrat   | None               | Not applicable   |  1 |\n",
       "| 2000 | Married       | 25 | White | $20000 - 24999 | Strong democrat    | Protestant         | Southern baptist | NA |\n",
       "\n"
      ],
      "text/plain": [
       "  year marital       age race  rincome        partyid           \n",
       "1 2000 Never married 26  White $8000 to 9999  Ind,near rep      \n",
       "2 2000 Divorced      48  White $8000 to 9999  Not str republican\n",
       "3 2000 Widowed       67  White Not applicable Independent       \n",
       "4 2000 Never married 39  White Not applicable Ind,near rep      \n",
       "5 2000 Divorced      25  White Not applicable Not str democrat  \n",
       "6 2000 Married       25  White $20000 - 24999 Strong democrat   \n",
       "  relig              denom            tvhours\n",
       "1 Protestant         Southern baptist 12     \n",
       "2 Protestant         Baptist-dk which NA     \n",
       "3 Protestant         No denomination   2     \n",
       "4 Orthodox-christian Not applicable    4     \n",
       "5 None               Not applicable    1     \n",
       "6 Protestant         Southern baptist NA     "
      ]
     },
     "metadata": {},
     "output_type": "display_data"
    }
   ],
   "source": [
    "head(gss_cat) #General Social Survey, a long-running US survey "
   ]
  },
  {
   "cell_type": "code",
   "execution_count": null,
   "id": "910bd8b7-56c1-49e7-9b00-58d3388d3a52",
   "metadata": {
    "scrolled": true
   },
   "outputs": [],
   "source": [
    "?gss_cat"
   ]
  },
  {
   "cell_type": "code",
   "execution_count": 16,
   "id": "67b8e53d-b046-49ac-9341-54e02ec922f2",
   "metadata": {},
   "outputs": [
    {
     "data": {
      "text/html": [
       "<table class=\"dataframe\">\n",
       "<caption>A tibble: 3 × 2</caption>\n",
       "<thead>\n",
       "\t<tr><th scope=col>race</th><th scope=col>n</th></tr>\n",
       "\t<tr><th scope=col>&lt;fct&gt;</th><th scope=col>&lt;int&gt;</th></tr>\n",
       "</thead>\n",
       "<tbody>\n",
       "\t<tr><td>Other</td><td> 1959</td></tr>\n",
       "\t<tr><td>Black</td><td> 3129</td></tr>\n",
       "\t<tr><td>White</td><td>16395</td></tr>\n",
       "</tbody>\n",
       "</table>\n"
      ],
      "text/latex": [
       "A tibble: 3 × 2\n",
       "\\begin{tabular}{ll}\n",
       " race & n\\\\\n",
       " <fct> & <int>\\\\\n",
       "\\hline\n",
       "\t Other &  1959\\\\\n",
       "\t Black &  3129\\\\\n",
       "\t White & 16395\\\\\n",
       "\\end{tabular}\n"
      ],
      "text/markdown": [
       "\n",
       "A tibble: 3 × 2\n",
       "\n",
       "| race &lt;fct&gt; | n &lt;int&gt; |\n",
       "|---|---|\n",
       "| Other |  1959 |\n",
       "| Black |  3129 |\n",
       "| White | 16395 |\n",
       "\n"
      ],
      "text/plain": [
       "  race  n    \n",
       "1 Other  1959\n",
       "2 Black  3129\n",
       "3 White 16395"
      ]
     },
     "metadata": {},
     "output_type": "display_data"
    }
   ],
   "source": [
    "gss_cat |>\n",
    "    count(race)"
   ]
  },
  {
   "cell_type": "markdown",
   "id": "881f999a-77f0-403f-994f-610504b0d41c",
   "metadata": {},
   "source": [
    "When working with factors, the two most common operations are changing the order of the levels, and changing the values of the levels. Those operations are described in the sections below."
   ]
  },
  {
   "cell_type": "raw",
   "id": "3d18af1b-92ab-432a-b1de-9474ba8d1a15",
   "metadata": {},
   "source": [
    "gss_cat |> \n",
    "    group_by(relig) |> \n",
    "    summarise(n = n())"
   ]
  },
  {
   "cell_type": "code",
   "execution_count": 17,
   "id": "af440d8f-46fc-44a6-8241-e7b80e6d6ec4",
   "metadata": {},
   "outputs": [
    {
     "data": {
      "text/html": [
       "<table class=\"dataframe\">\n",
       "<caption>A tibble: 15 × 2</caption>\n",
       "<thead>\n",
       "\t<tr><th scope=col>relig</th><th scope=col>n</th></tr>\n",
       "\t<tr><th scope=col>&lt;fct&gt;</th><th scope=col>&lt;int&gt;</th></tr>\n",
       "</thead>\n",
       "<tbody>\n",
       "\t<tr><td>Protestant             </td><td>10846</td></tr>\n",
       "\t<tr><td>Catholic               </td><td> 5124</td></tr>\n",
       "\t<tr><td>None                   </td><td> 3523</td></tr>\n",
       "\t<tr><td>Christian              </td><td>  689</td></tr>\n",
       "\t<tr><td>Jewish                 </td><td>  388</td></tr>\n",
       "\t<tr><td>Other                  </td><td>  224</td></tr>\n",
       "\t<tr><td>Buddhism               </td><td>  147</td></tr>\n",
       "\t<tr><td>Inter-nondenominational</td><td>  109</td></tr>\n",
       "\t<tr><td>Moslem/islam           </td><td>  104</td></tr>\n",
       "\t<tr><td>Orthodox-christian     </td><td>   95</td></tr>\n",
       "\t<tr><td>No answer              </td><td>   93</td></tr>\n",
       "\t<tr><td>Hinduism               </td><td>   71</td></tr>\n",
       "\t<tr><td>Other eastern          </td><td>   32</td></tr>\n",
       "\t<tr><td>Native american        </td><td>   23</td></tr>\n",
       "\t<tr><td>Don't know             </td><td>   15</td></tr>\n",
       "</tbody>\n",
       "</table>\n"
      ],
      "text/latex": [
       "A tibble: 15 × 2\n",
       "\\begin{tabular}{ll}\n",
       " relig & n\\\\\n",
       " <fct> & <int>\\\\\n",
       "\\hline\n",
       "\t Protestant              & 10846\\\\\n",
       "\t Catholic                &  5124\\\\\n",
       "\t None                    &  3523\\\\\n",
       "\t Christian               &   689\\\\\n",
       "\t Jewish                  &   388\\\\\n",
       "\t Other                   &   224\\\\\n",
       "\t Buddhism                &   147\\\\\n",
       "\t Inter-nondenominational &   109\\\\\n",
       "\t Moslem/islam            &   104\\\\\n",
       "\t Orthodox-christian      &    95\\\\\n",
       "\t No answer               &    93\\\\\n",
       "\t Hinduism                &    71\\\\\n",
       "\t Other eastern           &    32\\\\\n",
       "\t Native american         &    23\\\\\n",
       "\t Don't know              &    15\\\\\n",
       "\\end{tabular}\n"
      ],
      "text/markdown": [
       "\n",
       "A tibble: 15 × 2\n",
       "\n",
       "| relig &lt;fct&gt; | n &lt;int&gt; |\n",
       "|---|---|\n",
       "| Protestant              | 10846 |\n",
       "| Catholic                |  5124 |\n",
       "| None                    |  3523 |\n",
       "| Christian               |   689 |\n",
       "| Jewish                  |   388 |\n",
       "| Other                   |   224 |\n",
       "| Buddhism                |   147 |\n",
       "| Inter-nondenominational |   109 |\n",
       "| Moslem/islam            |   104 |\n",
       "| Orthodox-christian      |    95 |\n",
       "| No answer               |    93 |\n",
       "| Hinduism                |    71 |\n",
       "| Other eastern           |    32 |\n",
       "| Native american         |    23 |\n",
       "| Don't know              |    15 |\n",
       "\n"
      ],
      "text/plain": [
       "   relig                   n    \n",
       "1  Protestant              10846\n",
       "2  Catholic                 5124\n",
       "3  None                     3523\n",
       "4  Christian                 689\n",
       "5  Jewish                    388\n",
       "6  Other                     224\n",
       "7  Buddhism                  147\n",
       "8  Inter-nondenominational   109\n",
       "9  Moslem/islam              104\n",
       "10 Orthodox-christian         95\n",
       "11 No answer                  93\n",
       "12 Hinduism                   71\n",
       "13 Other eastern              32\n",
       "14 Native american            23\n",
       "15 Don't know                 15"
      ]
     },
     "metadata": {},
     "output_type": "display_data"
    }
   ],
   "source": [
    "# What is the most common relig in this survey? \n",
    "gss_cat |>\n",
    "    count(relig) |>\n",
    "    arrange(desc(n)) "
   ]
  },
  {
   "cell_type": "code",
   "execution_count": 18,
   "id": "95652d64-f254-4338-b504-aa210ee6a8ea",
   "metadata": {},
   "outputs": [
    {
     "data": {
      "text/html": [
       "<table class=\"dataframe\">\n",
       "<caption>A tibble: 10 × 2</caption>\n",
       "<thead>\n",
       "\t<tr><th scope=col>partyid</th><th scope=col>n</th></tr>\n",
       "\t<tr><th scope=col>&lt;fct&gt;</th><th scope=col>&lt;int&gt;</th></tr>\n",
       "</thead>\n",
       "<tbody>\n",
       "\t<tr><td>Independent       </td><td>4119</td></tr>\n",
       "\t<tr><td>Not str democrat  </td><td>3690</td></tr>\n",
       "\t<tr><td>Strong democrat   </td><td>3490</td></tr>\n",
       "\t<tr><td>Not str republican</td><td>3032</td></tr>\n",
       "\t<tr><td>Ind,near dem      </td><td>2499</td></tr>\n",
       "\t<tr><td>Strong republican </td><td>2314</td></tr>\n",
       "\t<tr><td>Ind,near rep      </td><td>1791</td></tr>\n",
       "\t<tr><td>Other party       </td><td> 393</td></tr>\n",
       "\t<tr><td>No answer         </td><td> 154</td></tr>\n",
       "\t<tr><td>Don't know        </td><td>   1</td></tr>\n",
       "</tbody>\n",
       "</table>\n"
      ],
      "text/latex": [
       "A tibble: 10 × 2\n",
       "\\begin{tabular}{ll}\n",
       " partyid & n\\\\\n",
       " <fct> & <int>\\\\\n",
       "\\hline\n",
       "\t Independent        & 4119\\\\\n",
       "\t Not str democrat   & 3690\\\\\n",
       "\t Strong democrat    & 3490\\\\\n",
       "\t Not str republican & 3032\\\\\n",
       "\t Ind,near dem       & 2499\\\\\n",
       "\t Strong republican  & 2314\\\\\n",
       "\t Ind,near rep       & 1791\\\\\n",
       "\t Other party        &  393\\\\\n",
       "\t No answer          &  154\\\\\n",
       "\t Don't know         &    1\\\\\n",
       "\\end{tabular}\n"
      ],
      "text/markdown": [
       "\n",
       "A tibble: 10 × 2\n",
       "\n",
       "| partyid &lt;fct&gt; | n &lt;int&gt; |\n",
       "|---|---|\n",
       "| Independent        | 4119 |\n",
       "| Not str democrat   | 3690 |\n",
       "| Strong democrat    | 3490 |\n",
       "| Not str republican | 3032 |\n",
       "| Ind,near dem       | 2499 |\n",
       "| Strong republican  | 2314 |\n",
       "| Ind,near rep       | 1791 |\n",
       "| Other party        |  393 |\n",
       "| No answer          |  154 |\n",
       "| Don't know         |    1 |\n",
       "\n"
      ],
      "text/plain": [
       "   partyid            n   \n",
       "1  Independent        4119\n",
       "2  Not str democrat   3690\n",
       "3  Strong democrat    3490\n",
       "4  Not str republican 3032\n",
       "5  Ind,near dem       2499\n",
       "6  Strong republican  2314\n",
       "7  Ind,near rep       1791\n",
       "8  Other party         393\n",
       "9  No answer           154\n",
       "10 Don't know            1"
      ]
     },
     "metadata": {},
     "output_type": "display_data"
    }
   ],
   "source": [
    "# What’s the most common partyid?\n",
    "gss_cat |>\n",
    "    count(partyid) |>\n",
    "    arrange(desc(n)) "
   ]
  },
  {
   "cell_type": "code",
   "execution_count": 19,
   "id": "04116af4-ab14-4a1c-b51d-d29f582122d8",
   "metadata": {},
   "outputs": [
    {
     "data": {
      "text/html": [
       "<style>\n",
       ".list-inline {list-style: none; margin:0; padding: 0}\n",
       ".list-inline>li {display: inline-block}\n",
       ".list-inline>li:not(:last-child)::after {content: \"\\00b7\"; padding: 0 .5ex}\n",
       "</style>\n",
       "<ol class=list-inline><li>'No answer'</li><li>'Don\\'t know'</li><li>'Other party'</li><li>'Strong republican'</li><li>'Not str republican'</li><li>'Ind,near rep'</li><li>'Independent'</li><li>'Ind,near dem'</li><li>'Not str democrat'</li><li>'Strong democrat'</li></ol>\n"
      ],
      "text/latex": [
       "\\begin{enumerate*}\n",
       "\\item 'No answer'\n",
       "\\item 'Don\\textbackslash{}'t know'\n",
       "\\item 'Other party'\n",
       "\\item 'Strong republican'\n",
       "\\item 'Not str republican'\n",
       "\\item 'Ind,near rep'\n",
       "\\item 'Independent'\n",
       "\\item 'Ind,near dem'\n",
       "\\item 'Not str democrat'\n",
       "\\item 'Strong democrat'\n",
       "\\end{enumerate*}\n"
      ],
      "text/markdown": [
       "1. 'No answer'\n",
       "2. 'Don\\'t know'\n",
       "3. 'Other party'\n",
       "4. 'Strong republican'\n",
       "5. 'Not str republican'\n",
       "6. 'Ind,near rep'\n",
       "7. 'Independent'\n",
       "8. 'Ind,near dem'\n",
       "9. 'Not str democrat'\n",
       "10. 'Strong democrat'\n",
       "\n",
       "\n"
      ],
      "text/plain": [
       " [1] \"No answer\"          \"Don't know\"         \"Other party\"       \n",
       " [4] \"Strong republican\"  \"Not str republican\" \"Ind,near rep\"      \n",
       " [7] \"Independent\"        \"Ind,near dem\"       \"Not str democrat\"  \n",
       "[10] \"Strong democrat\"   "
      ]
     },
     "metadata": {},
     "output_type": "display_data"
    }
   ],
   "source": [
    "levels(gss_cat$partyid)"
   ]
  },
  {
   "cell_type": "code",
   "execution_count": 20,
   "id": "0abfc0fb-ae31-4e5d-b91c-822a7ed0690a",
   "metadata": {},
   "outputs": [
    {
     "data": {
      "text/html": [
       "<table class=\"dataframe\">\n",
       "<caption>A tibble: 15 × 3</caption>\n",
       "<thead>\n",
       "\t<tr><th scope=col>relig</th><th scope=col>tvhours</th><th scope=col>n</th></tr>\n",
       "\t<tr><th scope=col>&lt;fct&gt;</th><th scope=col>&lt;dbl&gt;</th><th scope=col>&lt;int&gt;</th></tr>\n",
       "</thead>\n",
       "<tbody>\n",
       "\t<tr><td>Don't know             </td><td>4.625000</td><td>   15</td></tr>\n",
       "\t<tr><td>Native american        </td><td>3.461538</td><td>   23</td></tr>\n",
       "\t<tr><td>Protestant             </td><td>3.145487</td><td>10846</td></tr>\n",
       "\t<tr><td>Catholic               </td><td>2.960297</td><td> 5124</td></tr>\n",
       "\t<tr><td>Inter-nondenominational</td><td>2.870370</td><td>  109</td></tr>\n",
       "\t<tr><td>Christian              </td><td>2.790281</td><td>  689</td></tr>\n",
       "\t<tr><td>Other                  </td><td>2.725806</td><td>  224</td></tr>\n",
       "\t<tr><td>No answer              </td><td>2.723404</td><td>   93</td></tr>\n",
       "\t<tr><td>None                   </td><td>2.710227</td><td> 3523</td></tr>\n",
       "\t<tr><td>Jewish                 </td><td>2.518519</td><td>  388</td></tr>\n",
       "\t<tr><td>Moslem/islam           </td><td>2.437500</td><td>  104</td></tr>\n",
       "\t<tr><td>Orthodox-christian     </td><td>2.416667</td><td>   95</td></tr>\n",
       "\t<tr><td>Buddhism               </td><td>2.382716</td><td>  147</td></tr>\n",
       "\t<tr><td>Hinduism               </td><td>1.891892</td><td>   71</td></tr>\n",
       "\t<tr><td>Other eastern          </td><td>1.666667</td><td>   32</td></tr>\n",
       "</tbody>\n",
       "</table>\n"
      ],
      "text/latex": [
       "A tibble: 15 × 3\n",
       "\\begin{tabular}{lll}\n",
       " relig & tvhours & n\\\\\n",
       " <fct> & <dbl> & <int>\\\\\n",
       "\\hline\n",
       "\t Don't know              & 4.625000 &    15\\\\\n",
       "\t Native american         & 3.461538 &    23\\\\\n",
       "\t Protestant              & 3.145487 & 10846\\\\\n",
       "\t Catholic                & 2.960297 &  5124\\\\\n",
       "\t Inter-nondenominational & 2.870370 &   109\\\\\n",
       "\t Christian               & 2.790281 &   689\\\\\n",
       "\t Other                   & 2.725806 &   224\\\\\n",
       "\t No answer               & 2.723404 &    93\\\\\n",
       "\t None                    & 2.710227 &  3523\\\\\n",
       "\t Jewish                  & 2.518519 &   388\\\\\n",
       "\t Moslem/islam            & 2.437500 &   104\\\\\n",
       "\t Orthodox-christian      & 2.416667 &    95\\\\\n",
       "\t Buddhism                & 2.382716 &   147\\\\\n",
       "\t Hinduism                & 1.891892 &    71\\\\\n",
       "\t Other eastern           & 1.666667 &    32\\\\\n",
       "\\end{tabular}\n"
      ],
      "text/markdown": [
       "\n",
       "A tibble: 15 × 3\n",
       "\n",
       "| relig &lt;fct&gt; | tvhours &lt;dbl&gt; | n &lt;int&gt; |\n",
       "|---|---|---|\n",
       "| Don't know              | 4.625000 |    15 |\n",
       "| Native american         | 3.461538 |    23 |\n",
       "| Protestant              | 3.145487 | 10846 |\n",
       "| Catholic                | 2.960297 |  5124 |\n",
       "| Inter-nondenominational | 2.870370 |   109 |\n",
       "| Christian               | 2.790281 |   689 |\n",
       "| Other                   | 2.725806 |   224 |\n",
       "| No answer               | 2.723404 |    93 |\n",
       "| None                    | 2.710227 |  3523 |\n",
       "| Jewish                  | 2.518519 |   388 |\n",
       "| Moslem/islam            | 2.437500 |   104 |\n",
       "| Orthodox-christian      | 2.416667 |    95 |\n",
       "| Buddhism                | 2.382716 |   147 |\n",
       "| Hinduism                | 1.891892 |    71 |\n",
       "| Other eastern           | 1.666667 |    32 |\n",
       "\n"
      ],
      "text/plain": [
       "   relig                   tvhours  n    \n",
       "1  Don't know              4.625000    15\n",
       "2  Native american         3.461538    23\n",
       "3  Protestant              3.145487 10846\n",
       "4  Catholic                2.960297  5124\n",
       "5  Inter-nondenominational 2.870370   109\n",
       "6  Christian               2.790281   689\n",
       "7  Other                   2.725806   224\n",
       "8  No answer               2.723404    93\n",
       "9  None                    2.710227  3523\n",
       "10 Jewish                  2.518519   388\n",
       "11 Moslem/islam            2.437500   104\n",
       "12 Orthodox-christian      2.416667    95\n",
       "13 Buddhism                2.382716   147\n",
       "14 Hinduism                1.891892    71\n",
       "15 Other eastern           1.666667    32"
      ]
     },
     "metadata": {},
     "output_type": "display_data"
    }
   ],
   "source": [
    "relig_summary <- gss_cat |>\n",
    "  group_by(relig) |> \n",
    "  summarize(\n",
    "    tvhours = mean(tvhours, na.rm = TRUE),\n",
    "    n = n()\n",
    "  ) |>\n",
    "    arrange(desc(tvhours))\n",
    "\n",
    "relig_summary"
   ]
  },
  {
   "cell_type": "code",
   "execution_count": 21,
   "id": "b0de9b52-ef25-47a2-8ca5-aeb2a3b72ebf",
   "metadata": {},
   "outputs": [
    {
     "data": {
      "image/png": "[encoded data removed]",
      "text/plain": [
       "plot without title"
      ]
     },
     "metadata": {
      "image/png": {
       "height": 420,
       "width": 420
      }
     },
     "output_type": "display_data"
    }
   ],
   "source": [
    "ggplot(relig_summary, aes(x = tvhours, y = relig)) +\n",
    "  geom_point()"
   ]
  },
  {
   "cell_type": "code",
   "execution_count": 22,
   "id": "720a640a-f410-460d-b1bc-b13e00871e44",
   "metadata": {},
   "outputs": [
    {
     "data": {
      "text/html": [
       "<style>\n",
       ".list-inline {list-style: none; margin:0; padding: 0}\n",
       ".list-inline>li {display: inline-block}\n",
       ".list-inline>li:not(:last-child)::after {content: \"\\00b7\"; padding: 0 .5ex}\n",
       "</style>\n",
       "<ol class=list-inline><li>'No answer'</li><li>'Don\\'t know'</li><li>'Inter-nondenominational'</li><li>'Native american'</li><li>'Christian'</li><li>'Orthodox-christian'</li><li>'Moslem/islam'</li><li>'Other eastern'</li><li>'Hinduism'</li><li>'Buddhism'</li><li>'Other'</li><li>'None'</li><li>'Jewish'</li><li>'Catholic'</li><li>'Protestant'</li><li>'Not applicable'</li></ol>\n"
      ],
      "text/latex": [
       "\\begin{enumerate*}\n",
       "\\item 'No answer'\n",
       "\\item 'Don\\textbackslash{}'t know'\n",
       "\\item 'Inter-nondenominational'\n",
       "\\item 'Native american'\n",
       "\\item 'Christian'\n",
       "\\item 'Orthodox-christian'\n",
       "\\item 'Moslem/islam'\n",
       "\\item 'Other eastern'\n",
       "\\item 'Hinduism'\n",
       "\\item 'Buddhism'\n",
       "\\item 'Other'\n",
       "\\item 'None'\n",
       "\\item 'Jewish'\n",
       "\\item 'Catholic'\n",
       "\\item 'Protestant'\n",
       "\\item 'Not applicable'\n",
       "\\end{enumerate*}\n"
      ],
      "text/markdown": [
       "1. 'No answer'\n",
       "2. 'Don\\'t know'\n",
       "3. 'Inter-nondenominational'\n",
       "4. 'Native american'\n",
       "5. 'Christian'\n",
       "6. 'Orthodox-christian'\n",
       "7. 'Moslem/islam'\n",
       "8. 'Other eastern'\n",
       "9. 'Hinduism'\n",
       "10. 'Buddhism'\n",
       "11. 'Other'\n",
       "12. 'None'\n",
       "13. 'Jewish'\n",
       "14. 'Catholic'\n",
       "15. 'Protestant'\n",
       "16. 'Not applicable'\n",
       "\n",
       "\n"
      ],
      "text/plain": [
       " [1] \"No answer\"               \"Don't know\"             \n",
       " [3] \"Inter-nondenominational\" \"Native american\"        \n",
       " [5] \"Christian\"               \"Orthodox-christian\"     \n",
       " [7] \"Moslem/islam\"            \"Other eastern\"          \n",
       " [9] \"Hinduism\"                \"Buddhism\"               \n",
       "[11] \"Other\"                   \"None\"                   \n",
       "[13] \"Jewish\"                  \"Catholic\"               \n",
       "[15] \"Protestant\"              \"Not applicable\"         "
      ]
     },
     "metadata": {},
     "output_type": "display_data"
    }
   ],
   "source": [
    "levels(gss_cat$relig)"
   ]
  },
  {
   "cell_type": "markdown",
   "id": "fb8983d6-1ad7-4026-9c11-c62d5d904279",
   "metadata": {},
   "source": [
    "## 3. Reordering Factors\n",
    "\n",
    "Factors can be reordered based on logical or statistical criteria:"
   ]
  },
  {
   "cell_type": "markdown",
   "id": "0227d506-458b-4e83-838b-b8205eea2d3d",
   "metadata": {},
   "source": [
    "### A. Use `fct_reorder()` to reorder levels based on another variable.\n",
    "```R\n",
    "fct_reorder(factor_var, numeric_var)\n",
    "```"
   ]
  },
  {
   "cell_type": "code",
   "execution_count": 23,
   "id": "f8e7e982-fa42-47a5-85fb-2feec5359523",
   "metadata": {},
   "outputs": [
    {
     "data": {
      "text/html": [
       "<table class=\"dataframe\">\n",
       "<caption>A tibble: 15 × 3</caption>\n",
       "<thead>\n",
       "\t<tr><th scope=col>relig</th><th scope=col>tvhours</th><th scope=col>n</th></tr>\n",
       "\t<tr><th scope=col>&lt;fct&gt;</th><th scope=col>&lt;dbl&gt;</th><th scope=col>&lt;int&gt;</th></tr>\n",
       "</thead>\n",
       "<tbody>\n",
       "\t<tr><td>Other eastern          </td><td>1.666667</td><td>   32</td></tr>\n",
       "\t<tr><td>Hinduism               </td><td>1.891892</td><td>   71</td></tr>\n",
       "\t<tr><td>Buddhism               </td><td>2.382716</td><td>  147</td></tr>\n",
       "\t<tr><td>Orthodox-christian     </td><td>2.416667</td><td>   95</td></tr>\n",
       "\t<tr><td>Moslem/islam           </td><td>2.437500</td><td>  104</td></tr>\n",
       "\t<tr><td>Jewish                 </td><td>2.518519</td><td>  388</td></tr>\n",
       "\t<tr><td>None                   </td><td>2.710227</td><td> 3523</td></tr>\n",
       "\t<tr><td>No answer              </td><td>2.723404</td><td>   93</td></tr>\n",
       "\t<tr><td>Other                  </td><td>2.725806</td><td>  224</td></tr>\n",
       "\t<tr><td>Christian              </td><td>2.790281</td><td>  689</td></tr>\n",
       "\t<tr><td>Inter-nondenominational</td><td>2.870370</td><td>  109</td></tr>\n",
       "\t<tr><td>Catholic               </td><td>2.960297</td><td> 5124</td></tr>\n",
       "\t<tr><td>Protestant             </td><td>3.145487</td><td>10846</td></tr>\n",
       "\t<tr><td>Native american        </td><td>3.461538</td><td>   23</td></tr>\n",
       "\t<tr><td>Don't know             </td><td>4.625000</td><td>   15</td></tr>\n",
       "</tbody>\n",
       "</table>\n"
      ],
      "text/latex": [
       "A tibble: 15 × 3\n",
       "\\begin{tabular}{lll}\n",
       " relig & tvhours & n\\\\\n",
       " <fct> & <dbl> & <int>\\\\\n",
       "\\hline\n",
       "\t Other eastern           & 1.666667 &    32\\\\\n",
       "\t Hinduism                & 1.891892 &    71\\\\\n",
       "\t Buddhism                & 2.382716 &   147\\\\\n",
       "\t Orthodox-christian      & 2.416667 &    95\\\\\n",
       "\t Moslem/islam            & 2.437500 &   104\\\\\n",
       "\t Jewish                  & 2.518519 &   388\\\\\n",
       "\t None                    & 2.710227 &  3523\\\\\n",
       "\t No answer               & 2.723404 &    93\\\\\n",
       "\t Other                   & 2.725806 &   224\\\\\n",
       "\t Christian               & 2.790281 &   689\\\\\n",
       "\t Inter-nondenominational & 2.870370 &   109\\\\\n",
       "\t Catholic                & 2.960297 &  5124\\\\\n",
       "\t Protestant              & 3.145487 & 10846\\\\\n",
       "\t Native american         & 3.461538 &    23\\\\\n",
       "\t Don't know              & 4.625000 &    15\\\\\n",
       "\\end{tabular}\n"
      ],
      "text/markdown": [
       "\n",
       "A tibble: 15 × 3\n",
       "\n",
       "| relig &lt;fct&gt; | tvhours &lt;dbl&gt; | n &lt;int&gt; |\n",
       "|---|---|---|\n",
       "| Other eastern           | 1.666667 |    32 |\n",
       "| Hinduism                | 1.891892 |    71 |\n",
       "| Buddhism                | 2.382716 |   147 |\n",
       "| Orthodox-christian      | 2.416667 |    95 |\n",
       "| Moslem/islam            | 2.437500 |   104 |\n",
       "| Jewish                  | 2.518519 |   388 |\n",
       "| None                    | 2.710227 |  3523 |\n",
       "| No answer               | 2.723404 |    93 |\n",
       "| Other                   | 2.725806 |   224 |\n",
       "| Christian               | 2.790281 |   689 |\n",
       "| Inter-nondenominational | 2.870370 |   109 |\n",
       "| Catholic                | 2.960297 |  5124 |\n",
       "| Protestant              | 3.145487 | 10846 |\n",
       "| Native american         | 3.461538 |    23 |\n",
       "| Don't know              | 4.625000 |    15 |\n",
       "\n"
      ],
      "text/plain": [
       "   relig                   tvhours  n    \n",
       "1  Other eastern           1.666667    32\n",
       "2  Hinduism                1.891892    71\n",
       "3  Buddhism                2.382716   147\n",
       "4  Orthodox-christian      2.416667    95\n",
       "5  Moslem/islam            2.437500   104\n",
       "6  Jewish                  2.518519   388\n",
       "7  None                    2.710227  3523\n",
       "8  No answer               2.723404    93\n",
       "9  Other                   2.725806   224\n",
       "10 Christian               2.790281   689\n",
       "11 Inter-nondenominational 2.870370   109\n",
       "12 Catholic                2.960297  5124\n",
       "13 Protestant              3.145487 10846\n",
       "14 Native american         3.461538    23\n",
       "15 Don't know              4.625000    15"
      ]
     },
     "metadata": {},
     "output_type": "display_data"
    }
   ],
   "source": [
    "reordered_reli_tv <- relig_summary |>\n",
    "    mutate(\n",
    "        relig = fct_reorder(relig, tvhours) #relig(factor) is reorganized by tvhours\n",
    "    ) |> arrange(relig)\n",
    "    #ggplot(aes(x = tvhours, y = relig)) + \n",
    "    #geom_point()\n",
    "reordered_reli_tv"
   ]
  },
  {
   "cell_type": "code",
   "execution_count": 24,
   "id": "e44b5411-02db-4fad-b360-9d756934b6ae",
   "metadata": {},
   "outputs": [
    {
     "data": {
      "text/html": [
       "<style>\n",
       ".list-inline {list-style: none; margin:0; padding: 0}\n",
       ".list-inline>li {display: inline-block}\n",
       ".list-inline>li:not(:last-child)::after {content: \"\\00b7\"; padding: 0 .5ex}\n",
       "</style>\n",
       "<ol class=list-inline><li>'Other eastern'</li><li>'Hinduism'</li><li>'Buddhism'</li><li>'Orthodox-christian'</li><li>'Moslem/islam'</li><li>'Jewish'</li><li>'None'</li><li>'No answer'</li><li>'Other'</li><li>'Christian'</li><li>'Inter-nondenominational'</li><li>'Catholic'</li><li>'Protestant'</li><li>'Native american'</li><li>'Don\\'t know'</li><li>'Not applicable'</li></ol>\n"
      ],
      "text/latex": [
       "\\begin{enumerate*}\n",
       "\\item 'Other eastern'\n",
       "\\item 'Hinduism'\n",
       "\\item 'Buddhism'\n",
       "\\item 'Orthodox-christian'\n",
       "\\item 'Moslem/islam'\n",
       "\\item 'Jewish'\n",
       "\\item 'None'\n",
       "\\item 'No answer'\n",
       "\\item 'Other'\n",
       "\\item 'Christian'\n",
       "\\item 'Inter-nondenominational'\n",
       "\\item 'Catholic'\n",
       "\\item 'Protestant'\n",
       "\\item 'Native american'\n",
       "\\item 'Don\\textbackslash{}'t know'\n",
       "\\item 'Not applicable'\n",
       "\\end{enumerate*}\n"
      ],
      "text/markdown": [
       "1. 'Other eastern'\n",
       "2. 'Hinduism'\n",
       "3. 'Buddhism'\n",
       "4. 'Orthodox-christian'\n",
       "5. 'Moslem/islam'\n",
       "6. 'Jewish'\n",
       "7. 'None'\n",
       "8. 'No answer'\n",
       "9. 'Other'\n",
       "10. 'Christian'\n",
       "11. 'Inter-nondenominational'\n",
       "12. 'Catholic'\n",
       "13. 'Protestant'\n",
       "14. 'Native american'\n",
       "15. 'Don\\'t know'\n",
       "16. 'Not applicable'\n",
       "\n",
       "\n"
      ],
      "text/plain": [
       " [1] \"Other eastern\"           \"Hinduism\"               \n",
       " [3] \"Buddhism\"                \"Orthodox-christian\"     \n",
       " [5] \"Moslem/islam\"            \"Jewish\"                 \n",
       " [7] \"None\"                    \"No answer\"              \n",
       " [9] \"Other\"                   \"Christian\"              \n",
       "[11] \"Inter-nondenominational\" \"Catholic\"               \n",
       "[13] \"Protestant\"              \"Native american\"        \n",
       "[15] \"Don't know\"              \"Not applicable\"         "
      ]
     },
     "metadata": {},
     "output_type": "display_data"
    },
    {
     "data": {
      "text/html": [
       "<style>\n",
       ".list-inline {list-style: none; margin:0; padding: 0}\n",
       ".list-inline>li {display: inline-block}\n",
       ".list-inline>li:not(:last-child)::after {content: \"\\00b7\"; padding: 0 .5ex}\n",
       "</style>\n",
       "<ol class=list-inline><li>'No answer'</li><li>'Don\\'t know'</li><li>'Inter-nondenominational'</li><li>'Native american'</li><li>'Christian'</li><li>'Orthodox-christian'</li><li>'Moslem/islam'</li><li>'Other eastern'</li><li>'Hinduism'</li><li>'Buddhism'</li><li>'Other'</li><li>'None'</li><li>'Jewish'</li><li>'Catholic'</li><li>'Protestant'</li><li>'Not applicable'</li></ol>\n"
      ],
      "text/latex": [
       "\\begin{enumerate*}\n",
       "\\item 'No answer'\n",
       "\\item 'Don\\textbackslash{}'t know'\n",
       "\\item 'Inter-nondenominational'\n",
       "\\item 'Native american'\n",
       "\\item 'Christian'\n",
       "\\item 'Orthodox-christian'\n",
       "\\item 'Moslem/islam'\n",
       "\\item 'Other eastern'\n",
       "\\item 'Hinduism'\n",
       "\\item 'Buddhism'\n",
       "\\item 'Other'\n",
       "\\item 'None'\n",
       "\\item 'Jewish'\n",
       "\\item 'Catholic'\n",
       "\\item 'Protestant'\n",
       "\\item 'Not applicable'\n",
       "\\end{enumerate*}\n"
      ],
      "text/markdown": [
       "1. 'No answer'\n",
       "2. 'Don\\'t know'\n",
       "3. 'Inter-nondenominational'\n",
       "4. 'Native american'\n",
       "5. 'Christian'\n",
       "6. 'Orthodox-christian'\n",
       "7. 'Moslem/islam'\n",
       "8. 'Other eastern'\n",
       "9. 'Hinduism'\n",
       "10. 'Buddhism'\n",
       "11. 'Other'\n",
       "12. 'None'\n",
       "13. 'Jewish'\n",
       "14. 'Catholic'\n",
       "15. 'Protestant'\n",
       "16. 'Not applicable'\n",
       "\n",
       "\n"
      ],
      "text/plain": [
       " [1] \"No answer\"               \"Don't know\"             \n",
       " [3] \"Inter-nondenominational\" \"Native american\"        \n",
       " [5] \"Christian\"               \"Orthodox-christian\"     \n",
       " [7] \"Moslem/islam\"            \"Other eastern\"          \n",
       " [9] \"Hinduism\"                \"Buddhism\"               \n",
       "[11] \"Other\"                   \"None\"                   \n",
       "[13] \"Jewish\"                  \"Catholic\"               \n",
       "[15] \"Protestant\"              \"Not applicable\"         "
      ]
     },
     "metadata": {},
     "output_type": "display_data"
    }
   ],
   "source": [
    "levels(reordered_reli_tv$relig)\n",
    "#print(\"=============\")\n",
    "levels(relig_summary$relig)"
   ]
  },
  {
   "cell_type": "raw",
   "id": "10326d98-0544-49b3-80ef-46dc09fffd78",
   "metadata": {},
   "source": [
    "relig_summary |>\n",
    "    mutate(\n",
    "        relig = fct_reorder(relig,tvhours) \n",
    "    ) |>\n",
    "    ggplot(aes(x = tvhours, y = relig)) + \n",
    "    geom_point()"
   ]
  },
  {
   "cell_type": "code",
   "execution_count": 25,
   "id": "6b5f3a8a-185e-4f37-bce0-e6afebded557",
   "metadata": {},
   "outputs": [
    {
     "data": {
      "image/png": "[encoded data removed]",
      "text/plain": [
       "plot without title"
      ]
     },
     "metadata": {
      "image/png": {
       "height": 420,
       "width": 420
      }
     },
     "output_type": "display_data"
    }
   ],
   "source": [
    "ggplot(relig_summary, aes(x = tvhours, y = fct_reorder(relig, tvhours))) +\n",
    "  geom_point()"
   ]
  },
  {
   "cell_type": "markdown",
   "id": "f4fde4b3-d202-4e54-aebf-71bd4c998931",
   "metadata": {},
   "source": [
    "### B. Use `fct_relevel()` to move a level to the front or specify the exact order.\n",
    "```R\n",
    "fct_relevel(factor, levels) # any levels not mentioned will be left in their existing order\n",
    "```"
   ]
  },
  {
   "cell_type": "code",
   "execution_count": 26,
   "id": "36f4ee2f-9690-4ae9-b85a-a9763a503b56",
   "metadata": {},
   "outputs": [
    {
     "data": {
      "text/html": [
       "<style>\n",
       ".list-inline {list-style: none; margin:0; padding: 0}\n",
       ".list-inline>li {display: inline-block}\n",
       ".list-inline>li:not(:last-child)::after {content: \"\\00b7\"; padding: 0 .5ex}\n",
       "</style>\n",
       "<ol class=list-inline><li>'b'</li><li>'c'</li><li>'d'</li><li>'a'</li></ol>\n"
      ],
      "text/latex": [
       "\\begin{enumerate*}\n",
       "\\item 'b'\n",
       "\\item 'c'\n",
       "\\item 'd'\n",
       "\\item 'a'\n",
       "\\end{enumerate*}\n"
      ],
      "text/markdown": [
       "1. 'b'\n",
       "2. 'c'\n",
       "3. 'd'\n",
       "4. 'a'\n",
       "\n",
       "\n"
      ],
      "text/plain": [
       "[1] \"b\" \"c\" \"d\" \"a\""
      ]
     },
     "metadata": {},
     "output_type": "display_data"
    },
    {
     "data": {
      "text/html": [
       "<style>\n",
       ".list-inline {list-style: none; margin:0; padding: 0}\n",
       ".list-inline>li {display: inline-block}\n",
       ".list-inline>li:not(:last-child)::after {content: \"\\00b7\"; padding: 0 .5ex}\n",
       "</style>\n",
       "<ol class=list-inline><li>'a'</li><li>'b'</li><li>'c'</li><li>'d'</li></ol>\n"
      ],
      "text/latex": [
       "\\begin{enumerate*}\n",
       "\\item 'a'\n",
       "\\item 'b'\n",
       "\\item 'c'\n",
       "\\item 'd'\n",
       "\\end{enumerate*}\n"
      ],
      "text/markdown": [
       "1. 'a'\n",
       "2. 'b'\n",
       "3. 'c'\n",
       "4. 'd'\n",
       "\n",
       "\n"
      ],
      "text/plain": [
       "[1] \"a\" \"b\" \"c\" \"d\""
      ]
     },
     "metadata": {},
     "output_type": "display_data"
    },
    {
     "data": {
      "text/html": [
       "<style>\n",
       ".list-inline {list-style: none; margin:0; padding: 0}\n",
       ".list-inline>li {display: inline-block}\n",
       ".list-inline>li:not(:last-child)::after {content: \"\\00b7\"; padding: 0 .5ex}\n",
       "</style>\n",
       "<ol class=list-inline><li>'b'</li><li>'a'</li><li>'c'</li><li>'d'</li></ol>\n"
      ],
      "text/latex": [
       "\\begin{enumerate*}\n",
       "\\item 'b'\n",
       "\\item 'a'\n",
       "\\item 'c'\n",
       "\\item 'd'\n",
       "\\end{enumerate*}\n"
      ],
      "text/markdown": [
       "1. 'b'\n",
       "2. 'a'\n",
       "3. 'c'\n",
       "4. 'd'\n",
       "\n",
       "\n"
      ],
      "text/plain": [
       "[1] \"b\" \"a\" \"c\" \"d\""
      ]
     },
     "metadata": {},
     "output_type": "display_data"
    }
   ],
   "source": [
    "f <- factor(c(\"a\", \"b\", \"c\", \"d\"), levels = c(\"b\", \"c\", \"d\", \"a\"))\n",
    "levels(fct_relevel(f))\n",
    "levels(fct_relevel(f, \"a\"))\n",
    "levels(fct_relevel(f, \"b\", \"a\"))"
   ]
  },
  {
   "cell_type": "code",
   "execution_count": 27,
   "id": "f09d6e55-6f2e-43e6-bbd8-d440d74e67f6",
   "metadata": {},
   "outputs": [
    {
     "data": {
      "text/html": [
       "<table class=\"dataframe\">\n",
       "<caption>A tibble: 16 × 4</caption>\n",
       "<thead>\n",
       "\t<tr><th scope=col>rincome</th><th scope=col>age</th><th scope=col>tvhours</th><th scope=col>n</th></tr>\n",
       "\t<tr><th scope=col>&lt;fct&gt;</th><th scope=col>&lt;dbl&gt;</th><th scope=col>&lt;dbl&gt;</th><th scope=col>&lt;int&gt;</th></tr>\n",
       "</thead>\n",
       "<tbody>\n",
       "\t<tr><td>No answer     </td><td>45.45029</td><td>2.904762</td><td> 183</td></tr>\n",
       "\t<tr><td>Don't know    </td><td>45.60902</td><td>3.411290</td><td> 267</td></tr>\n",
       "\t<tr><td>Refused       </td><td>47.61082</td><td>2.481973</td><td> 975</td></tr>\n",
       "\t<tr><td>$25000 or more</td><td>44.21217</td><td>2.234208</td><td>7363</td></tr>\n",
       "\t<tr><td>$20000 - 24999</td><td>41.53365</td><td>2.784753</td><td>1283</td></tr>\n",
       "\t<tr><td>$15000 - 19999</td><td>39.96180</td><td>2.912245</td><td>1048</td></tr>\n",
       "\t<tr><td>$10000 - 14999</td><td>41.11301</td><td>3.016541</td><td>1168</td></tr>\n",
       "\t<tr><td>$8000 to 9999 </td><td>41.08235</td><td>3.148571</td><td> 340</td></tr>\n",
       "\t<tr><td>$7000 to 7999 </td><td>38.24468</td><td>2.645455</td><td> 188</td></tr>\n",
       "\t<tr><td>$6000 to 6999 </td><td>40.29907</td><td>3.174312</td><td> 215</td></tr>\n",
       "\t<tr><td>$5000 to 5999 </td><td>37.81057</td><td>3.163793</td><td> 227</td></tr>\n",
       "\t<tr><td>$4000 to 4999 </td><td>38.87500</td><td>3.145299</td><td> 226</td></tr>\n",
       "\t<tr><td>$3000 to 3999 </td><td>37.82182</td><td>3.312102</td><td> 276</td></tr>\n",
       "\t<tr><td>$1000 to 2999 </td><td>34.54430</td><td>3.004525</td><td> 395</td></tr>\n",
       "\t<tr><td>Lt $1000      </td><td>40.51049</td><td>3.361842</td><td> 286</td></tr>\n",
       "\t<tr><td>Not applicable</td><td>56.10628</td><td>3.791468</td><td>7043</td></tr>\n",
       "</tbody>\n",
       "</table>\n"
      ],
      "text/latex": [
       "A tibble: 16 × 4\n",
       "\\begin{tabular}{llll}\n",
       " rincome & age & tvhours & n\\\\\n",
       " <fct> & <dbl> & <dbl> & <int>\\\\\n",
       "\\hline\n",
       "\t No answer      & 45.45029 & 2.904762 &  183\\\\\n",
       "\t Don't know     & 45.60902 & 3.411290 &  267\\\\\n",
       "\t Refused        & 47.61082 & 2.481973 &  975\\\\\n",
       "\t \\$25000 or more & 44.21217 & 2.234208 & 7363\\\\\n",
       "\t \\$20000 - 24999 & 41.53365 & 2.784753 & 1283\\\\\n",
       "\t \\$15000 - 19999 & 39.96180 & 2.912245 & 1048\\\\\n",
       "\t \\$10000 - 14999 & 41.11301 & 3.016541 & 1168\\\\\n",
       "\t \\$8000 to 9999  & 41.08235 & 3.148571 &  340\\\\\n",
       "\t \\$7000 to 7999  & 38.24468 & 2.645455 &  188\\\\\n",
       "\t \\$6000 to 6999  & 40.29907 & 3.174312 &  215\\\\\n",
       "\t \\$5000 to 5999  & 37.81057 & 3.163793 &  227\\\\\n",
       "\t \\$4000 to 4999  & 38.87500 & 3.145299 &  226\\\\\n",
       "\t \\$3000 to 3999  & 37.82182 & 3.312102 &  276\\\\\n",
       "\t \\$1000 to 2999  & 34.54430 & 3.004525 &  395\\\\\n",
       "\t Lt \\$1000       & 40.51049 & 3.361842 &  286\\\\\n",
       "\t Not applicable & 56.10628 & 3.791468 & 7043\\\\\n",
       "\\end{tabular}\n"
      ],
      "text/markdown": [
       "\n",
       "A tibble: 16 × 4\n",
       "\n",
       "| rincome &lt;fct&gt; | age &lt;dbl&gt; | tvhours &lt;dbl&gt; | n &lt;int&gt; |\n",
       "|---|---|---|---|\n",
       "| No answer      | 45.45029 | 2.904762 |  183 |\n",
       "| Don't know     | 45.60902 | 3.411290 |  267 |\n",
       "| Refused        | 47.61082 | 2.481973 |  975 |\n",
       "| $25000 or more | 44.21217 | 2.234208 | 7363 |\n",
       "| $20000 - 24999 | 41.53365 | 2.784753 | 1283 |\n",
       "| $15000 - 19999 | 39.96180 | 2.912245 | 1048 |\n",
       "| $10000 - 14999 | 41.11301 | 3.016541 | 1168 |\n",
       "| $8000 to 9999  | 41.08235 | 3.148571 |  340 |\n",
       "| $7000 to 7999  | 38.24468 | 2.645455 |  188 |\n",
       "| $6000 to 6999  | 40.29907 | 3.174312 |  215 |\n",
       "| $5000 to 5999  | 37.81057 | 3.163793 |  227 |\n",
       "| $4000 to 4999  | 38.87500 | 3.145299 |  226 |\n",
       "| $3000 to 3999  | 37.82182 | 3.312102 |  276 |\n",
       "| $1000 to 2999  | 34.54430 | 3.004525 |  395 |\n",
       "| Lt $1000       | 40.51049 | 3.361842 |  286 |\n",
       "| Not applicable | 56.10628 | 3.791468 | 7043 |\n",
       "\n"
      ],
      "text/plain": [
       "   rincome        age      tvhours  n   \n",
       "1  No answer      45.45029 2.904762  183\n",
       "2  Don't know     45.60902 3.411290  267\n",
       "3  Refused        47.61082 2.481973  975\n",
       "4  $25000 or more 44.21217 2.234208 7363\n",
       "5  $20000 - 24999 41.53365 2.784753 1283\n",
       "6  $15000 - 19999 39.96180 2.912245 1048\n",
       "7  $10000 - 14999 41.11301 3.016541 1168\n",
       "8  $8000 to 9999  41.08235 3.148571  340\n",
       "9  $7000 to 7999  38.24468 2.645455  188\n",
       "10 $6000 to 6999  40.29907 3.174312  215\n",
       "11 $5000 to 5999  37.81057 3.163793  227\n",
       "12 $4000 to 4999  38.87500 3.145299  226\n",
       "13 $3000 to 3999  37.82182 3.312102  276\n",
       "14 $1000 to 2999  34.54430 3.004525  395\n",
       "15 Lt $1000       40.51049 3.361842  286\n",
       "16 Not applicable 56.10628 3.791468 7043"
      ]
     },
     "metadata": {},
     "output_type": "display_data"
    }
   ],
   "source": [
    "rincome_summary <- gss_cat |>\n",
    "    group_by(rincome) |>\n",
    "    summarize(\n",
    "        age = mean(age, na.rm = TRUE),\n",
    "        tvhours = mean(tvhours, na.rm = TRUE),\n",
    "        n = n()\n",
    "    ) \n",
    "\n",
    "rincome_summary"
   ]
  },
  {
   "cell_type": "code",
   "execution_count": 28,
   "id": "8b6aabb8-a55e-4b0c-9993-2583d8371ffe",
   "metadata": {},
   "outputs": [
    {
     "data": {
      "image/png": "[encoded data removed]",
      "text/plain": [
       "plot without title"
      ]
     },
     "metadata": {
      "image/png": {
       "height": 420,
       "width": 420
      }
     },
     "output_type": "display_data"
    }
   ],
   "source": [
    "rincome_summary|>\n",
    "    #ggplot(aes(x = age, y = rincome)) +\n",
    "    ggplot(aes(x = age, y = fct_relevel(rincome,\"Not applicable\"))) +\n",
    "        geom_point()"
   ]
  },
  {
   "cell_type": "markdown",
   "id": "9e0ad05d-853b-43b1-a55c-f7c4846e86c1",
   "metadata": {},
   "source": [
    "### C. For changing the order of a bar plot,\n",
    "1. by number of observations with each level (largest first, decreasing manner): `fct_infreq()` \n",
    "2. Sort in reverse order: `fct_rev()`"
   ]
  },
  {
   "cell_type": "code",
   "execution_count": 29,
   "id": "3d7cad7a-f284-4736-a20b-14f0ae933c6c",
   "metadata": {},
   "outputs": [
    {
     "data": {
      "text/html": [
       "<style>\n",
       ".list-inline {list-style: none; margin:0; padding: 0}\n",
       ".list-inline>li {display: inline-block}\n",
       ".list-inline>li:not(:last-child)::after {content: \"\\00b7\"; padding: 0 .5ex}\n",
       "</style>\n",
       "<ol class=list-inline><li>'No answer'</li><li>'Never married'</li><li>'Separated'</li><li>'Divorced'</li><li>'Widowed'</li><li>'Married'</li></ol>\n"
      ],
      "text/latex": [
       "\\begin{enumerate*}\n",
       "\\item 'No answer'\n",
       "\\item 'Never married'\n",
       "\\item 'Separated'\n",
       "\\item 'Divorced'\n",
       "\\item 'Widowed'\n",
       "\\item 'Married'\n",
       "\\end{enumerate*}\n"
      ],
      "text/markdown": [
       "1. 'No answer'\n",
       "2. 'Never married'\n",
       "3. 'Separated'\n",
       "4. 'Divorced'\n",
       "5. 'Widowed'\n",
       "6. 'Married'\n",
       "\n",
       "\n"
      ],
      "text/plain": [
       "[1] \"No answer\"     \"Never married\" \"Separated\"     \"Divorced\"     \n",
       "[5] \"Widowed\"       \"Married\"      "
      ]
     },
     "metadata": {},
     "output_type": "display_data"
    }
   ],
   "source": [
    "levels(gss_cat$marital)"
   ]
  },
  {
   "cell_type": "code",
   "execution_count": 30,
   "id": "c6b5b490-475e-468c-b708-137b890a5819",
   "metadata": {},
   "outputs": [
    {
     "data": {
      "image/png": "[encoded data removed]",
      "text/plain": [
       "plot without title"
      ]
     },
     "metadata": {
      "image/png": {
       "height": 420,
       "width": 420
      }
     },
     "output_type": "display_data"
    }
   ],
   "source": [
    "gss_cat |>\n",
    "    mutate(\n",
    "        marital = marital |> \n",
    "            fct_infreq() |>\n",
    "            fct_rev()\n",
    "          ) |>\n",
    "    ggplot(aes(x = marital)) +\n",
    "        geom_bar()"
   ]
  },
  {
   "cell_type": "markdown",
   "id": "4d80437e-9b41-4109-b6de-26e6823e3fc7",
   "metadata": {},
   "source": [
    "## 4. Modifying Factor Levels\n",
    "\n",
    "We can change the values of the levels!\n",
    "\n",
    "### A. **Rename** levels with `fct_recode()`:\n",
    "```R\n",
    "fct_recode(factor_var, \"new_level\" = \"old_level\" )\n",
    "```"
   ]
  },
  {
   "cell_type": "code",
   "execution_count": 31,
   "id": "a845f8f4-dcfe-4d4a-9dfb-a67822927459",
   "metadata": {},
   "outputs": [
    {
     "data": {
      "text/html": [
       "<style>\n",
       ".list-inline {list-style: none; margin:0; padding: 0}\n",
       ".list-inline>li {display: inline-block}\n",
       ".list-inline>li:not(:last-child)::after {content: \"\\00b7\"; padding: 0 .5ex}\n",
       "</style>\n",
       "<ol class=list-inline><li>'No answer'</li><li>'Don\\'t know'</li><li>'Other party'</li><li>'Strong republican'</li><li>'Not str republican'</li><li>'Ind,near rep'</li><li>'Independent'</li><li>'Ind,near dem'</li><li>'Not str democrat'</li><li>'Strong democrat'</li></ol>\n"
      ],
      "text/latex": [
       "\\begin{enumerate*}\n",
       "\\item 'No answer'\n",
       "\\item 'Don\\textbackslash{}'t know'\n",
       "\\item 'Other party'\n",
       "\\item 'Strong republican'\n",
       "\\item 'Not str republican'\n",
       "\\item 'Ind,near rep'\n",
       "\\item 'Independent'\n",
       "\\item 'Ind,near dem'\n",
       "\\item 'Not str democrat'\n",
       "\\item 'Strong democrat'\n",
       "\\end{enumerate*}\n"
      ],
      "text/markdown": [
       "1. 'No answer'\n",
       "2. 'Don\\'t know'\n",
       "3. 'Other party'\n",
       "4. 'Strong republican'\n",
       "5. 'Not str republican'\n",
       "6. 'Ind,near rep'\n",
       "7. 'Independent'\n",
       "8. 'Ind,near dem'\n",
       "9. 'Not str democrat'\n",
       "10. 'Strong democrat'\n",
       "\n",
       "\n"
      ],
      "text/plain": [
       " [1] \"No answer\"          \"Don't know\"         \"Other party\"       \n",
       " [4] \"Strong republican\"  \"Not str republican\" \"Ind,near rep\"      \n",
       " [7] \"Independent\"        \"Ind,near dem\"       \"Not str democrat\"  \n",
       "[10] \"Strong democrat\"   "
      ]
     },
     "metadata": {},
     "output_type": "display_data"
    }
   ],
   "source": [
    "levels(gss_cat$partyid)"
   ]
  },
  {
   "cell_type": "code",
   "execution_count": 32,
   "id": "48658950-4401-46ae-bc05-f27fdd1ff0b8",
   "metadata": {},
   "outputs": [
    {
     "data": {
      "text/html": [
       "<table class=\"dataframe\">\n",
       "<caption>A tibble: 8 × 2</caption>\n",
       "<thead>\n",
       "\t<tr><th scope=col>partyid</th><th scope=col>n</th></tr>\n",
       "\t<tr><th scope=col>&lt;fct&gt;</th><th scope=col>&lt;int&gt;</th></tr>\n",
       "</thead>\n",
       "<tbody>\n",
       "\t<tr><td>Other                </td><td> 548</td></tr>\n",
       "\t<tr><td>Republican, strong   </td><td>2314</td></tr>\n",
       "\t<tr><td>Republican, weak     </td><td>3032</td></tr>\n",
       "\t<tr><td>Independent, near rep</td><td>1791</td></tr>\n",
       "\t<tr><td>Independent          </td><td>4119</td></tr>\n",
       "\t<tr><td>Independent, near dem</td><td>2499</td></tr>\n",
       "\t<tr><td>Democrat, weak       </td><td>3690</td></tr>\n",
       "\t<tr><td>Democrat, strong     </td><td>3490</td></tr>\n",
       "</tbody>\n",
       "</table>\n"
      ],
      "text/latex": [
       "A tibble: 8 × 2\n",
       "\\begin{tabular}{ll}\n",
       " partyid & n\\\\\n",
       " <fct> & <int>\\\\\n",
       "\\hline\n",
       "\t Other                 &  548\\\\\n",
       "\t Republican, strong    & 2314\\\\\n",
       "\t Republican, weak      & 3032\\\\\n",
       "\t Independent, near rep & 1791\\\\\n",
       "\t Independent           & 4119\\\\\n",
       "\t Independent, near dem & 2499\\\\\n",
       "\t Democrat, weak        & 3690\\\\\n",
       "\t Democrat, strong      & 3490\\\\\n",
       "\\end{tabular}\n"
      ],
      "text/markdown": [
       "\n",
       "A tibble: 8 × 2\n",
       "\n",
       "| partyid &lt;fct&gt; | n &lt;int&gt; |\n",
       "|---|---|\n",
       "| Other                 |  548 |\n",
       "| Republican, strong    | 2314 |\n",
       "| Republican, weak      | 3032 |\n",
       "| Independent, near rep | 1791 |\n",
       "| Independent           | 4119 |\n",
       "| Independent, near dem | 2499 |\n",
       "| Democrat, weak        | 3690 |\n",
       "| Democrat, strong      | 3490 |\n",
       "\n"
      ],
      "text/plain": [
       "  partyid               n   \n",
       "1 Other                  548\n",
       "2 Republican, strong    2314\n",
       "3 Republican, weak      3032\n",
       "4 Independent, near rep 1791\n",
       "5 Independent           4119\n",
       "6 Independent, near dem 2499\n",
       "7 Democrat, weak        3690\n",
       "8 Democrat, strong      3490"
      ]
     },
     "metadata": {},
     "output_type": "display_data"
    }
   ],
   "source": [
    "gss_cat |>\n",
    "    mutate(\n",
    "        partyid = fct_recode(partyid, \n",
    "            # Changing name: <new name> = <old name>\n",
    "            \"Republican, strong\" = \"Strong republican\",\n",
    "            \"Republican, weak\" = \"Not str republican\",\n",
    "            \"Independent, near rep\" = \"Ind,near rep\",\n",
    "            \"Independent, near dem\" = \"Ind,near dem\",\n",
    "            \"Democrat, weak\" = \"Not str democrat\",\n",
    "            \"Democrat, strong\" = \"Strong democrat\",\n",
    "            # Combine groups by recycling the name\n",
    "            \"Other\" = \"No answer\",\n",
    "            \"Other\" = \"Don\\'t know\",\n",
    "            \"Other\" = \"Other party\"\n",
    "        )\n",
    "    ) |>\n",
    "    count(partyid)"
   ]
  },
  {
   "cell_type": "markdown",
   "id": "2cd8dd6b-5c9a-4e8a-a847-0c5306c9ec81",
   "metadata": {},
   "source": [
    "### B. **Collapse** levels with `fct_collapse()`:\n",
    "```R\n",
    "fct_collapse(factor_var, new_level = c(\"old_level1\", \"old_level2\"))\n",
    "```"
   ]
  },
  {
   "cell_type": "code",
   "execution_count": 33,
   "id": "218ac63d-1c69-4512-bcef-da40aaee3bd0",
   "metadata": {},
   "outputs": [
    {
     "data": {
      "text/html": [
       "<table class=\"dataframe\">\n",
       "<caption>A tibble: 4 × 2</caption>\n",
       "<thead>\n",
       "\t<tr><th scope=col>partyid</th><th scope=col>n</th></tr>\n",
       "\t<tr><th scope=col>&lt;fct&gt;</th><th scope=col>&lt;int&gt;</th></tr>\n",
       "</thead>\n",
       "<tbody>\n",
       "\t<tr><td>other</td><td> 548</td></tr>\n",
       "\t<tr><td>rep  </td><td>5346</td></tr>\n",
       "\t<tr><td>ind  </td><td>8409</td></tr>\n",
       "\t<tr><td>dem  </td><td>7180</td></tr>\n",
       "</tbody>\n",
       "</table>\n"
      ],
      "text/latex": [
       "A tibble: 4 × 2\n",
       "\\begin{tabular}{ll}\n",
       " partyid & n\\\\\n",
       " <fct> & <int>\\\\\n",
       "\\hline\n",
       "\t other &  548\\\\\n",
       "\t rep   & 5346\\\\\n",
       "\t ind   & 8409\\\\\n",
       "\t dem   & 7180\\\\\n",
       "\\end{tabular}\n"
      ],
      "text/markdown": [
       "\n",
       "A tibble: 4 × 2\n",
       "\n",
       "| partyid &lt;fct&gt; | n &lt;int&gt; |\n",
       "|---|---|\n",
       "| other |  548 |\n",
       "| rep   | 5346 |\n",
       "| ind   | 8409 |\n",
       "| dem   | 7180 |\n",
       "\n"
      ],
      "text/plain": [
       "  partyid n   \n",
       "1 other    548\n",
       "2 rep     5346\n",
       "3 ind     8409\n",
       "4 dem     7180"
      ]
     },
     "metadata": {},
     "output_type": "display_data"
    }
   ],
   "source": [
    "# If you have too many levels: `fct_collapse()` is much useful! \n",
    "gss_cat |>\n",
    "    mutate(\n",
    "        partyid = fct_collapse(partyid,\n",
    "            \"other\" = c(\"No answer\",\"Don\\'t know\",\"Other party\"),\n",
    "            \"rep\" = c(\"Strong republican\",\"Not str republican\"),\n",
    "            \"ind\" = c(\"Ind,near rep\", \"Independent\", \"Ind,near dem\"),\n",
    "            \"dem\" = c(\"Strong democrat\",\"Not str democrat\")                      \n",
    "        )\n",
    "    ) |>\n",
    "    count(partyid)"
   ]
  },
  {
   "cell_type": "markdown",
   "id": "1d6943d0-d937-48e5-aefa-80d3b065e306",
   "metadata": {},
   "source": [
    "### C. **Lump** uncommon factor **together** with `fct_lump*()`:\n",
    "```R\n",
    "fct_lump_lowfreq(factor) #lumps together the least frequent levels into \"Other\"\n",
    "fct_lump_min(factor, min = <input_minimum>) #lumps levels that appear fewer than minimum times\n",
    "fct_lump_prop(factor, prop = p) #lumps levels that appear in fewer than prop * n times\n",
    "``` "
   ]
  },
  {
   "cell_type": "code",
   "execution_count": null,
   "id": "73fc3223-d0b7-4558-a416-f28adc985fed",
   "metadata": {},
   "outputs": [],
   "source": [
    "?fct_lump_lowfreq"
   ]
  },
  {
   "cell_type": "code",
   "execution_count": 34,
   "id": "64763051-17e8-43e0-9291-88e4ba64ca1d",
   "metadata": {},
   "outputs": [
    {
     "data": {
      "text/html": [
       "<table class=\"dataframe\">\n",
       "<caption>A tibble: 2 × 2</caption>\n",
       "<thead>\n",
       "\t<tr><th scope=col>relig</th><th scope=col>n</th></tr>\n",
       "\t<tr><th scope=col>&lt;fct&gt;</th><th scope=col>&lt;int&gt;</th></tr>\n",
       "</thead>\n",
       "<tbody>\n",
       "\t<tr><td>Protestant</td><td>10846</td></tr>\n",
       "\t<tr><td>Other     </td><td>10637</td></tr>\n",
       "</tbody>\n",
       "</table>\n"
      ],
      "text/latex": [
       "A tibble: 2 × 2\n",
       "\\begin{tabular}{ll}\n",
       " relig & n\\\\\n",
       " <fct> & <int>\\\\\n",
       "\\hline\n",
       "\t Protestant & 10846\\\\\n",
       "\t Other      & 10637\\\\\n",
       "\\end{tabular}\n"
      ],
      "text/markdown": [
       "\n",
       "A tibble: 2 × 2\n",
       "\n",
       "| relig &lt;fct&gt; | n &lt;int&gt; |\n",
       "|---|---|\n",
       "| Protestant | 10846 |\n",
       "| Other      | 10637 |\n",
       "\n"
      ],
      "text/plain": [
       "  relig      n    \n",
       "1 Protestant 10846\n",
       "2 Other      10637"
      ]
     },
     "metadata": {},
     "output_type": "display_data"
    }
   ],
   "source": [
    "gss_cat |>\n",
    "    mutate(relig= fct_lump_lowfreq(relig) ) |>\n",
    "    count(relig)\n",
    "# 'No answer''Don\\'t know''Other party' lumped together"
   ]
  }
 ],
 "metadata": {
  "kernelspec": {
   "display_name": "R",
   "language": "R",
   "name": "ir"
  },
  "language_info": {
   "codemirror_mode": "r",
   "file_extension": ".r",
   "mimetype": "text/x-r-source",
   "name": "R",
   "pygments_lexer": "r",
   "version": "4.4.2"
  }
 },
 "nbformat": 4,
 "nbformat_minor": 5
}
